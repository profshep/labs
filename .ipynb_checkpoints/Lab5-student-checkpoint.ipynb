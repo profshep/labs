{
 "cells": [
  {
   "cell_type": "markdown",
   "metadata": {},
   "source": [
    "## Lab 5 Spectroscopic Constants  "
   ]
  },
  {
   "cell_type": "code",
   "execution_count": null,
   "metadata": {},
   "outputs": [],
   "source": [
    "import psi4\n",
    "import numpy as np\n",
    "import pylab"
   ]
  },
  {
   "cell_type": "markdown",
   "metadata": {},
   "source": [
    "#### 1) The following code creates a diatomic molecule based on the two atomic symbols specified (e.g., HF), defines masses, and values of bond length in angstroms."
   ]
  },
  {
   "cell_type": "code",
   "execution_count": null,
   "metadata": {},
   "outputs": [],
   "source": [
    "# Replace letters corresonding to different elements below:\n",
    "mol_tmpl = \"\"\"H \n",
    "F 1 **R**\"\"\"\n",
    "\n",
    "m1 = 1   # mass (amu) of the first element \n",
    "m2 = 19  # mass (amu) of the second element \n",
    "\n",
    "rvals = np.array([i for i in range(20)])*0.002  # number of points & increment\n",
    "rvals = rvals + 0.885                           # minimum bond length (angstroms) \n",
    "\n",
    "print(rvals)"
   ]
  },
  {
   "cell_type": "markdown",
   "metadata": {},
   "source": [
    "#### 2) The following code uses the PSI4 electronic structure program.  The psi4.geometry function creates the molecule and the psi4.energy function calculates the energy.  Use this plot to adjust the the values of rval above in order to best capture the potential minima. (Should appear relatively harmonic) "
   ]
  },
  {
   "cell_type": "code",
   "execution_count": null,
   "metadata": {},
   "outputs": [],
   "source": [
    "mols = [psi4.geometry(mol_tmpl.replace(\"**R**\", str(r))) for r in rvals]\n",
    "energies = [psi4.energy(\"SCF/cc-pVDZ\", molecule=mol) for mol in mols]\n",
    "pylab.plot(rvals, energies, linestyle='--', marker='o', color='b') #  Plots energies vs. R"
   ]
  },
  {
   "cell_type": "markdown",
   "metadata": {},
   "source": [
    "#### 3) The next PSI4 function uses the bonds distances and the energies to derive the spectroscopic constants for the molecule. These are output to a python dictionary which is called data. The value corresponding to one of these constants can be used in a computation with the syntax: data['re']"
   ]
  },
  {
   "cell_type": "code",
   "execution_count": null,
   "metadata": {},
   "outputs": [],
   "source": [
    "data = psi4.diatomic.anharmonicity(rvals, energies)\n",
    "\n",
    "display(data)  # outputs a dictionary of computed constants for the molecule\n",
    "\n",
    "print(data['re'])  # outputs the equilibrium bond length"
   ]
  },
  {
   "cell_type": "markdown",
   "metadata": {},
   "source": [
    "#### 4) Using the calculated fundamental frequency, 'nu' (1/cm), calculate the force constant, k (N/m). "
   ]
  },
  {
   "cell_type": "code",
   "execution_count": null,
   "metadata": {},
   "outputs": [],
   "source": []
  },
  {
   "cell_type": "markdown",
   "metadata": {},
   "source": [
    "#### 5) Calculate and plot the harmonic potential (J) corresponding to each bond length. (Note the minimum of the potential should be at 0.) "
   ]
  },
  {
   "cell_type": "code",
   "execution_count": null,
   "metadata": {},
   "outputs": [],
   "source": []
  },
  {
   "cell_type": "markdown",
   "metadata": {},
   "source": [
    "#### 6) Using the calculated dissociation energy 'De' (units hartrees), calculate and plot the Morse potential (J) corresponding to each bond length. "
   ]
  },
  {
   "cell_type": "code",
   "execution_count": null,
   "metadata": {},
   "outputs": [],
   "source": []
  },
  {
   "cell_type": "markdown",
   "metadata": {},
   "source": [
    "#### 7) Replace the red text in the first to lines with the variable names corresponding to your harmonic and Morse potentials.  The code will then convert to energies to hartrees and create a plot comparing the molecular energies with the two models."
   ]
  },
  {
   "cell_type": "code",
   "execution_count": null,
   "metadata": {},
   "outputs": [],
   "source": [
    "harmonic = \"your variable\"\n",
    "morse = \"your variable\"\n",
    "\n",
    "harmonic = harmonic/4.36E-18\n",
    "morse = morse/4.36E-18\n",
    "\n",
    "rmin=str(data['re'])\n",
    "mols = [psi4.geometry(mol_tmpl.replace(\"**R**\", rmin))]\n",
    "zero = [psi4.energy(\"SCF/cc-pVDZ\", molecule=mol) for mol in mols]\n",
    "\n",
    "E = np.array(energies)-(zero)\n",
    "\n",
    "pylab.plot(rvals, E, linestyle='--', marker='o', color='b')\n",
    "pylab.plot(rvals, harmonic, linestyle='--', marker='o', color='g') \n",
    "pylab.plot(rvals, morse, linestyle='--', marker='o', color='r')\n",
    "pylab.xlabel(\"R\")\n",
    "pylab.ylabel(\"E\")\n",
    "pylab.legend(['psi4', 'harmonic', 'morse'], loc='lower right')\n",
    "pylab.ylim(0,data['De'])"
   ]
  },
  {
   "cell_type": "markdown",
   "metadata": {},
   "source": [
    "#### 8)  Using the calculated values of the vibrational constant 'we' (1/cm) and the anharmonicity constant 'wexe' (1/cm) calculate the energy for the n=0 to n=3 vibrational energy levels with and without the anharmonic correction. "
   ]
  },
  {
   "cell_type": "code",
   "execution_count": null,
   "metadata": {},
   "outputs": [],
   "source": []
  },
  {
   "cell_type": "markdown",
   "metadata": {},
   "source": [
    "#### 9) Calculate the $ \\Delta E $ for n=0 to n=1, n=1 to n=2, and n=2 to n=3.  Compare the results with and without the anharmonic correction."
   ]
  },
  {
   "cell_type": "code",
   "execution_count": null,
   "metadata": {},
   "outputs": [],
   "source": []
  }
 ],
 "metadata": {
  "anaconda-cloud": {},
  "kernelspec": {
   "display_name": "Python 3",
   "language": "python",
   "name": "python3"
  },
  "language_info": {
   "codemirror_mode": {
    "name": "ipython",
    "version": 3
   },
   "file_extension": ".py",
   "mimetype": "text/x-python",
   "name": "python",
   "nbconvert_exporter": "python",
   "pygments_lexer": "ipython3",
   "version": "3.6.10"
  }
 },
 "nbformat": 4,
 "nbformat_minor": 1
}
