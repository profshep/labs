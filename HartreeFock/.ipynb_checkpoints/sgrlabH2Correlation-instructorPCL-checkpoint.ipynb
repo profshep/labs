{
 "cells": [
  {
   "cell_type": "code",
   "execution_count": null,
   "metadata": {},
   "outputs": [],
   "source": [
    "import psi4\n",
    "import numpy as np\n",
    "import matplotlib.pyplot as plt\n",
    "%matplotlib inline\n",
    "from scipy import linalg as splinalg\n",
    "import time"
   ]
  },
  {
   "cell_type": "markdown",
   "metadata": {},
   "source": [
    "## What factors limit the accuracy of the Hartree-Fock Method?\n",
    "\n",
    "Hartree-Fock theory is able to successfully capture ca. 95% of the true energy (or our best approximation of it) for almost all systems. Most chemical predictions, however, require the remainder to be accurate. \n",
    "\n",
    "\n",
    "### Pre-experiment Questions: Part One\n",
    "\n",
    "1. Write the electron configuration you would expect for H$_2$ in terms of $\\sigma$ and $\\sigma^*$ orbitals in the ground-state. Is this state a singlet or triplet? <br><br>\n",
    "\n",
    "2. Individually: Write an excited-state electron configuration for H$_2$. <br><br>\n",
    "\n",
    "3. As a team: Compare your answers and decide which excited-state configuration would be the lowest energy excited state (i.e. the first excited state). Is this state a singlet or triplet? <br><br>\n",
    "\n",
    "4. How do you expect the energy gap between the ground and first-excited states to change as a function of $r_{AB}$? <br><br>\n",
    "\n",
    "5. In the limit $r_{AB}\\rightarrow\\infty$, will you observe a difference in the energy of singlet and triplet states? Why or why not? <br><br>\n",
    "\n",
    "6. Based on the energy for a single, isolated H-atom in Eh, what energy should the H$_2$ calculation converge to as $r_{AB}$ increases?"
   ]
  },
  {
   "cell_type": "markdown",
   "metadata": {},
   "source": [
    "### Experiment: Part One"
   ]
  },
  {
   "cell_type": "markdown",
   "metadata": {},
   "source": [
    "A. As a class, decide an approximate range of $r_{AB}$ in atomic units and assign a different basis set to each team. "
   ]
  },
  {
   "cell_type": "markdown",
   "metadata": {},
   "source": [
    "B. Use the following code to create an H$_2$ molecule and assign a list of $r_{AB}$ values in atomic units."
   ]
  },
  {
   "cell_type": "code",
   "execution_count": null,
   "metadata": {},
   "outputs": [],
   "source": [
    "# singlet H2 has a charge of 0, spin multiplicity of 1 \n",
    "h2_singlet = \"\"\"\n",
    "0 1\n",
    "H \n",
    "H 1 **R**\n",
    "\"\"\"\n",
    "\n",
    "rAB = [0.4, 0.45, 0.5, 0.6, 0.75, 1, 1.2, 1.5, 2, 3, 4, 5, 6] \n",
    "                           \n",
    "print(rAB)"
   ]
  },
  {
   "cell_type": "markdown",
   "metadata": {},
   "source": [
    "C. Use the following code to compute the energy of H$_2$ for each value of $r_{AB}$. Use this plot to adjust the the values of $r_{AB}$ above in order to best capture the potential energy surface (PES)."
   ]
  },
  {
   "cell_type": "code",
   "execution_count": null,
   "metadata": {},
   "outputs": [],
   "source": [
    "# method\n",
    "method = 'SCF'\n",
    "\n",
    "# basis set\n",
    "basis = 'cc-pvtz'\n",
    "\n",
    "# set computation options\n",
    "psi4.set_options({'basis': basis,\n",
    "                  'reference': 'rohf'})\n",
    "\n",
    "\n",
    "mol_singlet = [psi4.geometry(h2_singlet.replace(\"**R**\", str(r))) for r in rAB] \n",
    "\n",
    "e_singlet = [psi4.energy(method, molecule=mol) for mol in mol_singlet]\n",
    "\n",
    "psi4.core.clean()\n",
    "\n",
    "plt.plot(rAB, e_singlet, linestyle='-', marker='o', color='b') \n",
    "plt.xlabel('R_AB (a.u.)')\n",
    "plt.ylabel('H2 Energy ($E_h$)')\n",
    "plt.show()"
   ]
  },
  {
   "cell_type": "markdown",
   "metadata": {},
   "source": [
    "D. Add code below to calculate the energies for the first excited state of H$_2$ and create a single plot of the PES of both the singlet and triplet states."
   ]
  },
  {
   "cell_type": "code",
   "execution_count": null,
   "metadata": {},
   "outputs": [],
   "source": [
    "# Solution \n",
    "h2_triplet = \"\"\"\n",
    "0 3\n",
    "H \n",
    "H 1 **R**\n",
    "\"\"\"\n",
    "\n",
    "mol_triplet = [psi4.geometry(h2_triplet.replace(\"**R**\", str(r))) for r in rAB] \n",
    "\n",
    "e_triplet = [psi4.energy(method, molecule=mol) for mol in mol_triplet]\n",
    "\n",
    "psi4.core.clean()\n",
    "\n",
    "plt.plot(rAB, e_singlet, rAB, e_triplet, linestyle='-', marker='o') \n",
    "plt.xlabel('R_AB (a.u.)')\n",
    "plt.ylabel('H2 Energy ($E_h$)')\n",
    "plt.show()"
   ]
  },
  {
   "cell_type": "markdown",
   "metadata": {},
   "source": [
    "E. Use the following code to compute the lowest energy of H$_2$ and the corresponding value of $r_{AB}$. Confirm that this result is consistent with the PES above."
   ]
  },
  {
   "cell_type": "code",
   "execution_count": null,
   "metadata": {},
   "outputs": [],
   "source": [
    "h2 = psi4.geometry(h2_singlet.replace(\"**R**\", '1.0')) \n",
    "E_min = psi4.optimize(method, molecule=h2)\n",
    "\n",
    "Rab_min = h2.z(1)-h2.z(0)      # units angstroms\n",
    "Rab_min = Rab_min*0.5291772    # atomic units\n",
    "\n",
    "psi4.core.clean()\n",
    "\n",
    "print(f\"The lowest Hartree-Fock energy of H2 is: {E_min} Eh at {Rab_min} a.u\")"
   ]
  },
  {
   "cell_type": "markdown",
   "metadata": {},
   "source": [
    "### Thinking about the data: Part One\n",
    "\n",
    "7. As a class, decide whether each of the following results depends on the basis set: <br><br> a) the equilibrium bond length of H$_2$ <br><br> b) the multiplicity of the lowest energy state at this distance <br><br> c) the multiplicity of the lowest energy state as $r_{AB}\\rightarrow\\infty$ <br><br>\n",
    "\n",
    "8. Based on your pre-experiment predictions: <br><br> a) which state (singlet or triplet) converges to the correct energy <br><br> b) in what way(s) does HF theory fail to accurately predict the PES of H$_2$ <br><br>\n",
    "\n",
    "9. If we associate each electron with one nucleus or the other, describe four possible arrangements of the two electrons, $e_1$ and $e_2$, with the two nuclei, H$_A$ and H$_B$.<br><br>\n",
    "\n",
    "10. Assuming all four possible arrangements are equally likely: <br><br> a) what is the probability of only $e_1$ being associated with H$_A$? <br><br> b) what is the probability of only $e_2$ being associated with H$_A$? <br><br> c) what is the probability that H$_A$ has only one electron, $p($H$_A$.)? <br><br> d) what is the probability that H$_A$ has two electrons, $p($H$_A$:)? <br><br> e) what is the probability that H$_A$ has no electrons, $p($H$_A$)? <br><br> \n",
    "\n",
    "11. Which arrangement(s) become less likely as $r_{AB}\\rightarrow\\infty$? Explain your reasoning."
   ]
  },
  {
   "cell_type": "markdown",
   "metadata": {},
   "source": [
    "### Information\n",
    "\n",
    "| config  | case 1 |case 2 | case 3\n",
    "|---|---|---|---|\n",
    "|p(H$_A$:)| 1/4 |0| 1/2\n",
    "|p(H$_A$.)| 1/2 |1| 0\n",
    "|p(H$_A$) | 1/4 |0| 1/2\n",
    "|p(H$_B$:)| 1/4 |0| 1/2\n",
    "|p(H$_B$.)| 1/2 |1| 0\n",
    "|p(H$_B$) | 1/4 |0| 1/2"
   ]
  },
  {
   "cell_type": "markdown",
   "metadata": {},
   "source": [
    "12. What was the assumption that led to the probabilities in case 1? <br><br>\n",
    "\n",
    "13. For case 2: <br><br> a) what is the likelihood of finding both electrons associated with H$_A$? <br><br> b) if electron 1 is associated with H$_A$, where is electron 2? <br><br>\n",
    "\n",
    "14. Describe the assumptions leading to the probabilities in case 2.<br><br>\n",
    "\n",
    "15. Describe the assumptions leading to the probabilities in case 3.<br><br>\n",
    "\n",
    "16. Which of the three cases assumes the locations of the electrons are correlated? <br><br>\n",
    "\n",
    "17. Which of the three cases best matches your team's prediction for an H$_2$ molecule:<br><br> a) near equilibrium bond distances <br><br> b) near bond breaking distances <br><br>\n",
    "\n",
    "18. What property of electrons is essential to include to calculate an accurate bond dissociation energy for H$_2$? Explain."
   ]
  },
  {
   "cell_type": "markdown",
   "metadata": {},
   "source": [
    "### Information\n",
    "\n",
    "Recall the bonding and antibonding MOs from 1s atomic orbitals \n",
    "\n",
    "$$\n",
    "\\sigma(r) = \\sqrt{\\frac{1}{2}}[\\phi_{1s_A}(r) +\\phi_{1s_B}(r)]\n",
    "$$\n",
    "and\n",
    "$$\n",
    "\\sigma^*(r) = \\sqrt{\\frac{1}{2}}[\\phi_{1s_A}(r) -\\phi_{1s_B}(r)].\n",
    "$$\n",
    "\n",
    "The HF wavefunction, for the closed-shell singlet electron configuration, $\\sigma^2\\sigma^{*0}$, is represented as a single Slater determinant\n",
    "\n",
    "$$\n",
    "\\psi_1 = \n",
    "\\left|\\begin{array}{cc}\\sigma(1)\\alpha(1) & \\sigma(1)\\beta(1)\\\\\n",
    "\\sigma(2)\\alpha(2) & \\sigma(2)\\beta(2)\n",
    "\\end{array}\n",
    "\\right|\n",
    "$$\n",
    "\n",
    "where the  notation $\\sigma(1)$ is short-hand for the coordinates of electron 1, i.e. $\\sigma(1)\\equiv\\sigma(r_1).$"
   ]
  },
  {
   "cell_type": "markdown",
   "metadata": {},
   "source": [
    "### Pre-experiment Questions: Part Two"
   ]
  },
  {
   "cell_type": "markdown",
   "metadata": {},
   "source": [
    "19. Confirm that the Slater determinant expands to:\n",
    "$\\psi_1 = \\sigma(1)\\sigma(2)[\\alpha(1)\\beta(2) - \\alpha(2)\\beta(1)]$\n",
    "<br><br>\n",
    "\n",
    "20. Recall, each molecular wavefunction contains both a spatial and spin component. In view of your answer above, write the spatial function for the ground state of H$_2$. <br><br>\n",
    "\n",
    "21. Write a Slater determinant representing the excited state $\\psi_2$ resulting from a double excitation $\\sigma^0\\sigma^{*2}$. <br><br>\n",
    "\n",
    "22. Write the spatial function for this doubly excited state of H$_2$.<br><br>\n",
    "\n",
    "23. Describe any similarites between the spatial function and the electron configuration for the ground and doubly excited state. <br><br>\n",
    "\n",
    "24. Is there more than one possible Slater determinant representing an excited state resulting from a single excitation $\\sigma^1\\sigma^{*1}$? Explain. <br><br>\n",
    "\n",
    "25. Propose two potential spatial functions corresponding to the electron configuration $\\sigma^1\\sigma^{*1}$? (Note: we will return to this in part x.)"
   ]
  },
  {
   "cell_type": "markdown",
   "metadata": {},
   "source": [
    "### Experiment: Part Two"
   ]
  },
  {
   "cell_type": "markdown",
   "metadata": {},
   "source": [
    "A. Excute the following code that defines the functions used to calculate the wavefunctions."
   ]
  },
  {
   "cell_type": "code",
   "execution_count": null,
   "metadata": {},
   "outputs": [],
   "source": [
    "def phi1s(x,rN):\n",
    "    # an unnormalized 1s orbital \n",
    "    return np.exp(-np.abs(x-rN))\n",
    "\n",
    "def mo(x,rnuc,c):\n",
    "    rA = -rnuc/2\n",
    "    rB = rnuc/2\n",
    "    cA = c[0]\n",
    "    cB = c[1]\n",
    "    out = cA*phi1s(x,rA)+cB*phi1s(x,rB)\n",
    "    norm = np.sqrt(np.sum(out**2))\n",
    "    return out/norm\n",
    "\n",
    "# coefficients of the bonding and antibonding MOs\n",
    "c_sigma = np.array([1,1])/np.sqrt(2)\n",
    "c_sigma_star = np.array([1,-1])/np.sqrt(2)"
   ]
  },
  {
   "cell_type": "markdown",
   "metadata": {},
   "source": [
    "B. Use the following code to assign the value of $r_{AB}$ in atomic units and subsequent list of positions."
   ]
  },
  {
   "cell_type": "code",
   "execution_count": null,
   "metadata": {},
   "outputs": [],
   "source": [
    "# assign positions of the nuclei \n",
    "bond = Rab_min   # note: replace Rab_min with a different value when instructed  \n",
    "\n",
    "# values corresponding to the coordinate r \n",
    "npt = int(bond/4*1000)\n",
    "r = np.array([i for i in range(-npt,npt+1)])*.01\n",
    "r1, r2 = np.meshgrid(r,r)"
   ]
  },
  {
   "cell_type": "markdown",
   "metadata": {},
   "source": [
    "C. Use the following code to construct and plot the one-electron MOs $\\sigma(1)$ and $\\sigma^*(1)$ as a function of the coordinate $r_1$."
   ]
  },
  {
   "cell_type": "code",
   "execution_count": null,
   "metadata": {},
   "outputs": [],
   "source": [
    "# evaluate and plot the bonding and antibonding MOs at each value of r\n",
    "sigma = mo(r,bond,c_sigma)\n",
    "sigma_star = mo(r,bond,c_sigma_star)\n",
    "\n",
    "plt.plot(r,sigma,r,sigma_star)\n",
    "plt.title('Probability amplitude')\n",
    "plt.xlabel('r (a.u.)')\n",
    "plt.show()\n",
    "\n",
    "plt.plot(r,sigma**2,r,sigma_star**2)\n",
    "plt.title('Probability')\n",
    "plt.xlabel('r (a.u.)')\n",
    "plt.show()"
   ]
  },
  {
   "cell_type": "markdown",
   "metadata": {},
   "source": [
    "B. Use the following code to plot the spatial part of the ground state two-electron wavefunction $\\sigma(1)\\sigma(2)$ as a function of coordinates $r_1$ and $r_2$ in a two-dimensional contour plot."
   ]
  },
  {
   "cell_type": "code",
   "execution_count": null,
   "metadata": {},
   "outputs": [],
   "source": [
    "psi1 = mo(r1,bond,c_sigma)*mo(r2,bond,c_sigma)\n",
    "\n",
    "# plot the wavefunction \n",
    "n_levels = 10\n",
    "plt.contourf(r1,r2,psi1,n_levels)\n",
    "plt.title('Ground state wavefunction - psi1')\n",
    "plt.axis('square')\n",
    "plt.xlabel('r1 (a.u.)')\n",
    "plt.ylabel('r2 (a.u.)')\n",
    "plt.show()"
   ]
  },
  {
   "cell_type": "markdown",
   "metadata": {},
   "source": [
    "C. Add code below to plot the spatial part of the doubly excited two-electron wavefunction $\\sigma^*(1)\\sigma^*(2)$ as a function of coordinates $r_1$ and $r_2$ in a two-dimensional contour plot."
   ]
  },
  {
   "cell_type": "code",
   "execution_count": null,
   "metadata": {},
   "outputs": [],
   "source": [
    "# Solution\n",
    "psi2 = mo(r1,bond,c_sigma_star)*mo(r2,bond,c_sigma_star)\n",
    "\n",
    "plt.contourf(r1,r2,psi2,n_levels)\n",
    "plt.title('Double excitation wavefunction - psi2')\n",
    "plt.axis('square')\n",
    "plt.xlabel('r1 (a.u.)')\n",
    "plt.ylabel('r2 (a.u.)')\n",
    "plt.show()"
   ]
  },
  {
   "cell_type": "markdown",
   "metadata": {},
   "source": [
    "D. Add code below to plot two potential spatial functions resulting from a single excitation. "
   ]
  },
  {
   "cell_type": "code",
   "execution_count": null,
   "metadata": {},
   "outputs": [],
   "source": [
    "# Solution\n",
    "psi3 = mo(r1,bond,c_sigma)*mo(r2,bond,c_sigma_star)\n",
    "psi4 = mo(r1,bond,c_sigma_star)*mo(r2,bond,c_sigma)\n",
    "\n",
    "plt.contourf(r1,r2,psi3,n_levels)\n",
    "plt.title('Single excitation - psi3')\n",
    "plt.axis('square')\n",
    "plt.xlabel('r1 (a.u.)')\n",
    "plt.ylabel('r2 (a.u.)')\n",
    "plt.show()\n",
    "\n",
    "\n",
    "plt.contourf(r1,r2,psi4,n_levels)\n",
    "plt.title('Single excitation - psi4')\n",
    "plt.axis('square')\n",
    "plt.xlabel('r1 (a.u.)')\n",
    "plt.ylabel('r2 (a.u.)')\n",
    "plt.show()"
   ]
  },
  {
   "cell_type": "markdown",
   "metadata": {},
   "source": [
    "### Thinking about the data: Part Two"
   ]
  },
  {
   "cell_type": "markdown",
   "metadata": {},
   "source": [
    "26. In reference to the plots of the one-electron MOs: <br><br> a) Identify the positions of nucleus A and nucleus B.<br><br> b) Label each curve as either $\\sigma$ or $\\sigma^*$ and explain your reasoning. <br><br> c) Identify the bond length and explain how this result is consistent with the PES from part one. <br><br>\n",
    "\n",
    "27. In reference to the contour plot of the two-electron ground state wavefunction: <br><br> a) Are there any nodes associated with this wavefunction? <br><br> b) Identify all possible positions of $e_2$ assuming $e_1$ is located on nucleus A. <br><br> c) Identify all possible positions of $e_1$ assuming $e_2$ located on nucleus A. <br><br> d) In which quadrant of the graph are both $e_1$ and $e_2$ associated with nucleus A? <br><br>\n",
    "\n",
    "28. In reference to the contour plot of the doubly excited state wavefunction: <br><br> a) Identify the number of nodes associated with this wavefunction. <br><br> b) Is there a possibility that both $e_1$ and $e_2$ are associated with nucleus A? Explain.<br><br>\n",
    "\n",
    "29. In reference to the contour plots of a singly excited state wavefunction: <br><br> a) Identify the number of nodes associated with the wavefunction. <br><br> b) Explain how it is possible to determine whether the $\\sigma$ MO is associated with $e_1$ or $e_2$. <br><br> c) Is there a possibility that both $e_1$ and $e_2$ are associated with nucleus A? <br><br>\n",
    "\n",
    "30. Identify which of the three cases best represents the probabilities of the two-electron ground state wavefunction. <br><br> \n",
    "\n",
    "31. Increase the distance between the nuclei by assigning a value to `bond` > Rab_min and re-evaluate the spatial part of the two-electron wavefunctions. Do any of your answers above depend on the value of $r_{AB}$? <br><br> \n",
    "\n",
    "32. In view Question 18 and the plot of the two-electron ground state wavefunction, what is the reason Hartree-Fock theory is unable to accurately model the ground state of H$_2$ as $r_{AB}\\rightarrow\\infty$? <br><br> \n",
    "\n",
    "33. Now, let's look at the resulting two-particle wavefunctions from the linear combination of two determinants. Add code below to plot both the addition and subtraction of the ground and doubly excited state.\n",
    "$$\n",
    "\\psi_\\pm = \\psi_1\\pm\\psi_2\n",
    "$$"
   ]
  },
  {
   "cell_type": "code",
   "execution_count": null,
   "metadata": {},
   "outputs": [],
   "source": [
    "# Solution\n",
    "\n",
    "psi1 = mo(r1,bond,c_sigma)*mo(r2,bond,c_sigma)\n",
    "psi2 = mo(r1,bond,c_sigma_star)*mo(r2,bond,c_sigma_star)\n",
    "\n",
    "plt.contourf(r1,r2,psi1+psi2,n_levels)\n",
    "plt.title('psi1+psi2')\n",
    "plt.xlabel('r1 (a.u.)')\n",
    "plt.ylabel('r2 (a.u.)')\n",
    "plt.axis('square')\n",
    "plt.show()\n",
    "\n",
    "plt.contourf(r1,r2,psi1-psi2,n_levels)\n",
    "plt.title('psi1-psi2')\n",
    "plt.xlabel('r1 (a.u.)')\n",
    "plt.ylabel('r2 (a.u.)')\n",
    "plt.axis('square')\n",
    "plt.show()"
   ]
  },
  {
   "cell_type": "markdown",
   "metadata": {},
   "source": [
    "33. Are there any nodes associated with these wavefunctions? <br><br> \n",
    "\n",
    "34. For $\\psi_+$, if $e_1$ is on nucleus A, where is $e_2$ most likely to be found? <br><br> \n",
    "\n",
    "35. For $\\psi_-$, if $e_1$ is on nucleus A, where is $e_2$ **not** likely to be found? <br><br> \n",
    "\n",
    "36. For each wavefunction, identify which of the three cases best represents the probabilities of the two electrons: <br><br> a) $\\psi_+$ <br><br> b) $\\psi_-$ <br><br>\n",
    "\n",
    "37. In your own words, explain how the addition of multiple determinants could improve the accuracy of the Hartree Fock description of the ground state of H$_2$."
   ]
  },
  {
   "cell_type": "markdown",
   "metadata": {},
   "source": [
    "### Information\n",
    "\n",
    "Configuration interaction (CI) calculations treat the wavefunction as a combination of multiple (sometimes very many!) determinants. For H$_2$ in a minimal basis, only single and double excitations are possible because there are only two electrons. CI with single and double excitations is called CISD.\n",
    "\n",
    "A wavefunction is constructed as a linear combination of determinants, and the variational principle is again used to find the lowest energy.\n",
    "\n",
    "Mixing configurations of the ground state (Hartree-Fock) single determinant with the doubly excited $\\Psi_4$ is called CI doubles, or CID.\n",
    "$$\n",
    "\\Psi_\\textrm{CI} = c_1\\Psi_1 + c_2\\Psi_4\n",
    "$$\n",
    "Additional determinants at the level of singles gives CISD. Triples makes CISDT, quadruples are CISDTQ, and so forth.\n",
    "\n",
    "Could say something about the orders -- singles don't mix with the ground state by symmetry (I htink the number of nodes argument above should suffice to motivate or maybe prove this) where the doubles can. The singles can mix with the doubles, though. \n",
    "\n",
    "Something about counting the number of possibilities?"
   ]
  },
  {
   "cell_type": "markdown",
   "metadata": {},
   "source": [
    "### Pre-computation Questions: Part Three"
   ]
  },
  {
   "cell_type": "markdown",
   "metadata": {},
   "source": [
    "### Computation: Part Three"
   ]
  },
  {
   "cell_type": "code",
   "execution_count": null,
   "metadata": {},
   "outputs": [],
   "source": [
    "method = 'cisd'\n",
    "\n",
    "e_singlet = [psi4.energy(method, molecule=mol) for mol in mol_singlet]\n",
    "e_triplet = [psi4.energy(method, molecule=mol) for mol in mol_triplet]\n",
    "\n",
    "plt.title('CISD (correlation)')\n",
    "plt.plot(rAB, e_singlet, rAB, e_triplet, linestyle='-', marker='o') \n",
    "plt.xlabel('R_AB (a.u.)')\n",
    "plt.ylabel('H2 Energy ($E_h$)')\n",
    "plt.show()"
   ]
  },
  {
   "cell_type": "code",
   "execution_count": null,
   "metadata": {},
   "outputs": [],
   "source": [
    "h2 = psi4.geometry(h2_singlet.replace(\"**R**\", '1.0')) \n",
    "E_min = psi4.optimize(method, molecule=h2)\n",
    "\n",
    "Rab_min = h2.z(1)-h2.z(0)      # units angstroms\n",
    "Rab_min = Rab_min*0.5291772    # atomic units\n",
    "\n",
    "psi4.core.clean()\n",
    "\n",
    "print(f\"The lowest CISD energy of H2 is: {E_min} Eh at {Rab_min} a.u\")"
   ]
  },
  {
   "cell_type": "markdown",
   "metadata": {},
   "source": [
    "### Thinking about the data: Part Three"
   ]
  },
  {
   "cell_type": "markdown",
   "metadata": {},
   "source": [
    "Question: What is the energy difference between singlet and triplet states at rAB-> infinity? \n",
    "\n",
    "Which is better description of the dissociation of H$_2$, CISD or HF?\n",
    "\n",
    "What is the energy at $r_{AB}\\rightarrow\\infty$? How does that compare with the exact result?\n",
    "\n",
    "Look at the CISD energy of the ground state and compare to the HF energy? Which energy is more correct? Why?\n",
    "\n",
    "What is the energy difference between HF and CISD in units of kcal/mol? (Hint: 1 Ha = 627.509 kcal mol-1.)\n",
    "\n",
    "Which is better description of the bonding region of H$_2$, CISD or HF?\n",
    "\n",
    "**Information** Any time multiple electron configurations become close in energy, HF is in trouble because it is built on a single determinant. \n"
   ]
  },
  {
   "cell_type": "markdown",
   "metadata": {},
   "source": [
    "## The correlation that HF gets correct -- exchange correlation\n",
    "\n",
    "Let's return to the singly excited CSFs considering both space and spin.\n",
    "\n",
    "If we have two MOs, each occupied by one electron, and each electron with two spins, how many ways of arranging the electrons are there?\n",
    "\n",
    "The total wavefunction must be antisymmetric with respect to exchange. Because the wavefunction factorizes in to space and spin, either the spatial or spin parts of the wavefunction must be antisymmetric. If the spatial part is symmetric, the spin part must be antisymmetric and vice versa. The resulting combinations are a singlet and a three triplet states.\n",
    "\n",
    "The open-shell singlet is\n",
    "$$\n",
    "^0\\Psi = (\\sigma(1)\\sigma^*(2)+\\sigma^*(1)\\sigma(2))[\\alpha(1)\\beta(2)-\\alpha(2)\\beta(1)] \n",
    "$$\n",
    "The three triplets are\n",
    "\\begin{align}\n",
    "^3_1\\Psi &= (\\sigma(1)\\sigma^*(2)-\\sigma^*(1)\\sigma(2))\\alpha(1)\\alpha(2)\\\\ \n",
    "^3_0\\Psi &= (\\sigma(1)\\sigma^*(2)-\\sigma^*(1)\\sigma(2))[\\alpha(1)\\beta(2)+\\alpha(2)\\beta(1)] \\\\\n",
    "^3_{-1}\\Psi &= (\\sigma(1)\\sigma^*(2)-\\sigma^*(1)\\sigma(2))\\beta(1)\\beta(2)\n",
    "\\end{align}\n",
    "\n",
    "\n"
   ]
  },
  {
   "cell_type": "code",
   "execution_count": null,
   "metadata": {},
   "outputs": [],
   "source": [
    "psi_OSS = mo(r1,rN_array,c_sigma)*mo(r2,rN_array,c_sigma_star)+mo(r1,rN_array,c_sigma_star)*mo(r2,rN_array,c_sigma)\n",
    "psi_triplet = mo(r1,rN_array,c_sigma)*mo(r2,rN_array,c_sigma_star)-mo(r1,rN_array,c_sigma_star)*mo(r2,rN_array,c_sigma)\n",
    "\n",
    "\n",
    "plt.contourf(r1,r2,psi_OSS)\n",
    "plt.title('psi_OSS')\n",
    "plt.xlabel('r1 (a.u.)')\n",
    "plt.ylabel('r2 (a.u.)')\n",
    "plt.axis('square')\n",
    "plt.show()\n",
    "\n",
    "plt.contourf(r1,r2,psi_triplet)\n",
    "plt.title('psi_triplet')\n",
    "plt.xlabel('r1 (a.u.)')\n",
    "plt.ylabel('r2 (a.u.)')\n",
    "plt.axis('square')\n",
    "plt.show()\n"
   ]
  },
  {
   "cell_type": "markdown",
   "metadata": {},
   "source": [
    "Which of the two wavefunctions localizes the electrons on opposite nuclei? \n",
    "\n",
    "Which puts them on the same nuclei?\n",
    "\n",
    "How many nodes are there in these wavefunctions?\n",
    "\n",
    "In the $^3_1\\Psi$, the cancellation of electrons is called a \"Fermi hole.\" Because, for a triplet, the spins are identical, the spatial part of the wavefunction must have the minus sign, and the electrons cannot be in the same location. The triplet energy is correct because of this cancellation.\n",
    "\n",
    "Notice that the open-shell singlet tends to pair the electrons, in what is called a \"Fermi heap.\" Propose a physical interpretation of the open-shell singlet state.\n",
    "\n",
    "\n",
    "\n"
   ]
  },
  {
   "cell_type": "markdown",
   "metadata": {},
   "source": [
    "## Correlation in the bonding region\n",
    "HF failed spectacularly to describe the dissociation of H$_2$. It is much better in the bonding regions, but chemical accuracy often requires incorporating additional electron correlation effects. \n",
    "\n",
    "\n",
    "TO DO: Propose some molecules and look at changes in the bonding properties?\n"
   ]
  },
  {
   "cell_type": "markdown",
   "metadata": {},
   "source": [
    "## Other approaches to adding electron correlation\n",
    "### CI S D T Q H ... Full CI\n",
    "Systematic improvements but the number of determinants grows really fast, so this is a mess.\n",
    "\n",
    "### MP2\n",
    "It involves the double excitations! \n",
    "\n",
    "Nonvariational nature means it tends to overestimate corrections.\n",
    "\n",
    "### Coupled-Cluster\n",
    "A way to get higher orders of single- and double-excitation operators...\n",
    "\n",
    "It is not variational but seems very close to the variational results for reasons that are beyond me. "
   ]
  },
  {
   "cell_type": "markdown",
   "metadata": {},
   "source": [
    "## Dispersion interactions are electron correlation effects\n",
    "\n"
   ]
  },
  {
   "cell_type": "code",
   "execution_count": null,
   "metadata": {},
   "outputs": [],
   "source": [
    "\n",
    "# singlet H2 has a charge of 0, spin multiplicity of 1 (m_s=0)\n",
    "he_dimer = \"\"\"\n",
    "0 1\n",
    "He \n",
    "He 1 {}\n",
    "\"\"\"\n",
    "\n",
    "be_dimer = \"\"\"\n",
    "0 1\n",
    "Be \n",
    "Be 1 {}\n",
    "\"\"\"\n",
    "\n",
    "ar_dimer = \"\"\"\n",
    "0 1\n",
    "Ar \n",
    "Ar 1 {}\n",
    "\"\"\"\n",
    "\n",
    "\n",
    "# for He\n",
    "rAB_list = [2.75, 2.87, 3, 3.5, 4, 10]\n",
    "\n",
    "# for Ar\n",
    "rAB_list = [3.5, 3.75, 4, 4.5, 5, 6, 10]\n",
    "\n",
    "print(rAB_list)\n",
    "\n",
    "def scan(geom,rAB,method='SCF',basis='sto-3g'):\n",
    "    t_start = time.perf_counter()\n",
    "    \n",
    "    # set computation options\n",
    "    psi4.set_options({'basis': basis,\n",
    "                  'reference': 'rohf'})\n",
    "\n",
    "    e = ['']*len(rAB)\n",
    "    count = -1\n",
    "    for rAB in rAB_list:\n",
    "        #print(rAB)\n",
    "        count = count+1\n",
    "        mol = psi4.geometry(geom.format(rAB))\n",
    "        e[count] = psi4.energy(method,molecule=mol)\n",
    "        \n",
    "    t_diff = time.perf_counter() - t_start\n",
    "    #print(F'Energy at the minimum {np.min(e)} Eh located at {rAB_list[np.argmin(e)]} a0')\n",
    "    r_min = rAB_list[np.argmin(e)]\n",
    "    e_min = np.min(e)\n",
    "    de = e_min - e[-1]\n",
    "    print(F'\\nr_min/a0\\tE_min/a.u.\\tdE/a.u.')\n",
    "    #print(F'{r_min}\\t{e_min}\\t{de}')\n",
    "    print('%8.5f\\t%8.3f\\t%8.6f' % (r_min, e_min, de))\n",
    "    print(F'\\n{method} time elapsed {t_diff} s')\n",
    "    psi4.core.clean()\n",
    "    return e\n",
    "\n",
    "def listdiff(e,ind=-1):\n",
    "    return list(np.array(e)-np.array(e[ind]))\n",
    "\n",
    "mol = ar_dimer\n",
    "\n",
    "basis = 'cc-pVTZ'\n",
    "#basis = 'cc-pVDZ'\n",
    "\n",
    "method = 'SCF'\n",
    "t_start = time.perf_counter()\n",
    "e_hf = scan(mol,rAB_list,method,basis)\n",
    "#print(e_hf)\n",
    "\n",
    "method = 'MP2' #1.5 times slower\n",
    "e_mp2 = scan(mol,rAB_list,method,basis)\n",
    "#print(e_mp2)\n",
    "\n",
    "method = 'CCSD' #10 times slower\n",
    "e_ccsd = scan(mol,rAB_list,method,basis)\n",
    "#print(e_ccsd)\n",
    "\n",
    "method = 'CISD' #100 times slower\n",
    "e_cisd = scan(mol,rAB_list,method,basis)\n",
    "#print(e_cisd)\n",
    "\n",
    "\n",
    "# Visualize energy profile\n",
    "x = rAB_list\n",
    "#y1 = list(np.array(e_hf)-np.array(e_hf[-1]))\n",
    "y1 = listdiff(e_hf)\n",
    "y2 = listdiff(e_mp2)\n",
    "y3 = listdiff(e_ccsd)\n",
    "y4 = listdiff(e_cisd)\n",
    "plt.title('PES')\n",
    "plt.plot(x,y1,'o-')\n",
    "plt.plot(x,y2,'-o')\n",
    "plt.plot(x,y3,'-o')\n",
    "plt.plot(x,y4,'-o')\n",
    "plt.xlabel('rAB')\n",
    "plt.ylabel('Molecular Energy ($E_h$)')\n",
    "plt.legend(('SCF','MP2','CCSD','CISD'))\n",
    "plt.show()\n",
    "\n",
    "print('done')\n",
    "\n"
   ]
  }
 ],
 "metadata": {
  "kernelspec": {
   "display_name": "Python 3",
   "language": "python",
   "name": "python3"
  },
  "language_info": {
   "codemirror_mode": {
    "name": "ipython",
    "version": 3
   },
   "file_extension": ".py",
   "mimetype": "text/x-python",
   "name": "python",
   "nbconvert_exporter": "python",
   "pygments_lexer": "ipython3",
   "version": "3.6.10"
  }
 },
 "nbformat": 4,
 "nbformat_minor": 4
}
