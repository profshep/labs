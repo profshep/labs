{
 "cells": [
  {
   "cell_type": "code",
   "execution_count": 3,
   "metadata": {},
   "outputs": [],
   "source": [
    "import psi4\n",
    "import numpy as np\n",
    "import matplotlib.pyplot as plt\n",
    "%matplotlib inline\n",
    "from scipy import linalg as splinalg\n",
    "import time"
   ]
  },
  {
   "cell_type": "markdown",
   "metadata": {},
   "source": [
    "## What factors limit the accuracy of the Hartree-Fock Method?\n",
    "\n",
    "Hartree-Fock theory is able to successfully capture ca. 95% of the true energy (or our best approximation of it) for almost all systems. Most chemical predictions, however, require the remainder to be accurate. \n",
    "\n",
    "\n",
    "### Pre-experiment Questions: Part One\n",
    "\n",
    "1. Write the electron configuration you would expect for H$_2$ in terms of $\\sigma$ and $\\sigma^*$ orbitals in the ground-state. Is this state a singlet or triplet? <br><br>\n",
    "\n",
    "2. Individually: Write an excited-state electron configuration for H$_2$. <br><br>\n",
    "\n",
    "3. As a team: Compare your answers and decide which excited-state configuration would be the lowest energy excited state (i.e. the first excited state). Is this state a singlet or triplet? <br><br>\n",
    "\n",
    "4. How do you expect the energy gap between the ground and first-excited states to change as a function of $r_{AB}$? <br><br>\n",
    "\n",
    "5. In the limit $r_{AB}\\rightarrow\\infty$, will you observe a difference in the energy of singlet and triplet states? Why or why not? <br><br>\n",
    "\n",
    "6. Based on the energy for a single, isolated H-atom in Eh, what energy should the H$_2$ calculation converge to as $r_{AB}$ increases? <br><br>"
   ]
  },
  {
   "cell_type": "markdown",
   "metadata": {},
   "source": [
    "### Experiment: Part One"
   ]
  },
  {
   "cell_type": "markdown",
   "metadata": {},
   "source": [
    "A. As a class, decide an approximate range of $r_{AB}$ in atomic units and assign a different basis set to each team. "
   ]
  },
  {
   "cell_type": "markdown",
   "metadata": {},
   "source": [
    "B. Use the following code to create an H$_2$ molecule and assign a list of $r_{AB}$ values in atomic units."
   ]
  },
  {
   "cell_type": "code",
   "execution_count": 22,
   "metadata": {},
   "outputs": [
    {
     "name": "stdout",
     "output_type": "stream",
     "text": [
      "[0.4, 0.45, 0.5, 0.6, 0.75, 0.9, 1.2, 1.5, 2, 3, 4, 5, 6]\n"
     ]
    }
   ],
   "source": [
    "# singlet H2 has a charge of 0, spin multiplicity of 1 \n",
    "h2_singlet = \"\"\"\n",
    "0 1\n",
    "H \n",
    "H 1 **R**\n",
    "\"\"\"\n",
    "\n",
    "rAB = [0.4, 0.45, 0.5, 0.6, 0.75, 0.9, 1.2, 1.5, 2, 3, 4, 5, 6] \n",
    "                           \n",
    "print(rAB)"
   ]
  },
  {
   "cell_type": "markdown",
   "metadata": {},
   "source": [
    "C. Use the following code to compute the energy of H$_2$ for each value of $r_{AB}$. Use this plot to adjust the the values of $r_{AB}$ above in order to best capture the potential energy surface (PES)."
   ]
  },
  {
   "cell_type": "code",
   "execution_count": 23,
   "metadata": {},
   "outputs": [
    {
     "data": {
      "image/png": "[encoded data removed]",
      "text/plain": [
       "<Figure size 432x288 with 1 Axes>"
      ]
     },
     "metadata": {},
     "output_type": "display_data"
    }
   ],
   "source": [
    "# method\n",
    "method = 'SCF'\n",
    "\n",
    "# basis set\n",
    "basis = 'cc-pvtz'\n",
    "\n",
    "# set computation options\n",
    "psi4.set_options({'basis': basis,\n",
    "                  'reference': 'rohf'})\n",
    "\n",
    "\n",
    "mols = [psi4.geometry(h2_singlet.replace(\"**R**\", str(r))) for r in rAB] \n",
    "\n",
    "e_singlet = [psi4.energy(method, molecule=mol) for mol in mols]\n",
    "\n",
    "psi4.core.clean()\n",
    "\n",
    "plt.plot(rAB, e_singlet, linestyle='-', marker='o', color='b') \n",
    "plt.xlabel('R_AB (a.u.)')\n",
    "plt.ylabel('H2 Energy ($E_h$)')\n",
    "plt.show()"
   ]
  },
  {
   "cell_type": "markdown",
   "metadata": {},
   "source": [
    "D. Add code below to calculate the energies for the first excited state of H$_2$ and create a single plot of the PES of both the singlet and triplet states."
   ]
  },
  {
   "cell_type": "code",
   "execution_count": 24,
   "metadata": {},
   "outputs": [
    {
     "data": {
      "image/png": "[encoded data removed]",
      "text/plain": [
       "<Figure size 432x288 with 1 Axes>"
      ]
     },
     "metadata": {},
     "output_type": "display_data"
    }
   ],
   "source": [
    "h2_triplet = \"\"\"\n",
    "0 3\n",
    "H \n",
    "H 1 **R**\n",
    "\"\"\"\n",
    "\n",
    "mols = [psi4.geometry(h2_triplet.replace(\"**R**\", str(r))) for r in rAB] \n",
    "\n",
    "e_triplet = [psi4.energy(method, molecule=mol) for mol in mols]\n",
    "\n",
    "psi4.core.clean()\n",
    "\n",
    "plt.plot(rAB, e_singlet, rAB, e_triplet, linestyle='-', marker='o') \n",
    "plt.xlabel('R_AB')\n",
    "plt.ylabel('H2 Energy ($E_h$)')\n",
    "plt.show()"
   ]
  },
  {
   "cell_type": "markdown",
   "metadata": {},
   "source": [
    "E. Use the following code to compute the lowest energy of H$_2$ and the corresponding value of $r_{AB}$. Confirm that this result is consistent with the PES above."
   ]
  },
  {
   "cell_type": "code",
   "execution_count": 25,
   "metadata": {},
   "outputs": [
    {
     "name": "stdout",
     "output_type": "stream",
     "text": [
      "Optimizer: Optimization complete!\n",
      "The lowest Hartree-Fock energy of H2 is: -1.132990267179331 Eh at 0.7343712946919878 a.u\n"
     ]
    }
   ],
   "source": [
    "h2 = psi4.geometry(\"\"\"\n",
    "H \n",
    "H 1 1.0\n",
    "\"\"\")\n",
    "\n",
    "E_min = psi4.optimize(method, molecule=h2)\n",
    "\n",
    "Rab_min = h2.z(1)-h2.z(0)      # units angstroms\n",
    "Rab_min = Rab_min*0.5291772    # atomic units\n",
    "\n",
    "psi4.core.clean()\n",
    "\n",
    "print(f\"The lowest Hartree-Fock energy of H2 is: {E_min} Eh at {Rab_min} a.u\")"
   ]
  },
  {
   "cell_type": "markdown",
   "metadata": {},
   "source": [
    "### Thinking about the data: Part One\n",
    "\n",
    "7. As a class, decide whether each of the following results depends on the basis set: <br><br> a) the equilibrium bond length of H$_2$ <br><br> b) the multiplicity of the lowest energy state at this distance <br><br> c) the multiplicity of the lowest energy state as $r_{AB}\\rightarrow\\infty$\n",
    "<br><br>\n",
    "\n",
    "8. Based on your pre-experiment predictions: <br><br> a) which state (singlet or triplet) converges to the correct energy <br><br> b) how does HF theory fail to accurately predict the PES of H$_2$"
   ]
  },
  {
   "cell_type": "markdown",
   "metadata": {},
   "source": [
    "## Thinking about what went wrong\n",
    "\n",
    "If we associate each electron with one nucleus or the other, describe four possible arrangements of the two electrons, $e_1$ and $e_2$, with the two nuclei, H$_A$ and H$_B$.\n",
    "\n",
    "Assume all four possible arrangements are equally likely:\n",
    "\n",
    "What is the probability of only electron 1 being associated with HA?\n",
    "\n",
    "What is the probability of only electron 2 being associated with HA?\n",
    "\n",
    "What is the probability that nucleus A has only one electron, $p(HA.)$?\n",
    "\n",
    "What is the probability that nucleus A has two electrons, $p(HA:)$?\n",
    "\n",
    "What is the probability that nucleus A has no electrons, $p(HA)$?\n",
    "\n",
    "Identify the arrangements that become less likely as rAB -> infty? Explain your reasoning.\n",
    "\n",
    "\n",
    "**Model 1: Joint probability**\n",
    "\n",
    "Table Joint probability\n",
    "       scenario 1 scenario 2\n",
    "p(HA:) 1/4 0\n",
    "p(HA.) 1/2 1\n",
    "p(HA)  1/4 0\n",
    "p(HB:) 1/4 0\n",
    "p(HB.) 1/2 1\n",
    "p(HB)  1/4 0\n",
    "\n",
    "Is scenario 1 consistent with your answers above? \n",
    "\n",
    "What was the assumption that led to the probabilities in scenario 1?\n",
    "\n",
    "In scenario 2, what is the likelihood of finding both electrons associated with HA?\n",
    "\n",
    "If electron 1 is associated with HA, where is electron 2?\n",
    "\n",
    "Describe the assumptions leading to the probabilities in scenario 2.\n",
    "\n",
    "Which of these scenarios would you associate with a model representing the correlated motion of electrons?\n",
    "\n",
    "Which scenario assumes the locations of the electrons to be correlated?\n",
    "\n",
    "Which scenario would best match your expectations for an H2 molecule at bonding distances? At long distances?\n",
    "\n",
    "What property of electrons is essential to include at long distances?\n",
    "\n",
    "What is Hartree-Fock MO description of the singlet state missing that makes it poorly suited to describe H$_2$ at long distances?"
   ]
  },
  {
   "cell_type": "markdown",
   "metadata": {},
   "source": [
    "## Essential (Static) electron correlation -- the need for more than one determinant\n",
    "Let's use a simple model of H$_2$ in a minimal basis to see how additional determinants can add electron correlation.\n",
    "\n",
    "The simplest MO description forms bonding and antibonding orbitals from 1s atomic orbitals. \n",
    "\n",
    "$$\n",
    "\\sigma = \\sqrt{\\frac{1}{2}}[\\psi_{1sA} +\\psi_{1sB}]\n",
    "$$\n",
    "and\n",
    "$$\n",
    "\\sigma^* = \\sqrt{\\frac{1}{2}}[\\psi_{1sA} -\\psi_{1sB}]\n",
    "$$"
   ]
  },
  {
   "cell_type": "code",
   "execution_count": null,
   "metadata": {},
   "outputs": [],
   "source": [
    "def psi1s(x,rN):\n",
    "    # an unnormalized 1s orbital in 1D\n",
    "    return np.exp(-np.abs(x-rN))\n",
    "\n",
    "x = np.array([i for i in range(-50,51)])/30\n",
    "#print(x)\n",
    "\n",
    "#neglecting overlap\n",
    "c_sigma = np.array([1,1])/np.sqrt(2)\n",
    "c_sigma_star = np.array([1,-1])/np.sqrt(2)\n",
    "\n",
    "def mo(x,rN_array,c):\n",
    "    rA = rN_array[0]\n",
    "    rB = rN_array[1]\n",
    "    cA = c[0]\n",
    "    cB=c[1]\n",
    "    out = cA*psi1s(x,rA)+cB*psi1s(x,rB)\n",
    "    norm = np.sqrt(np.sum(out**2))\n",
    "    return out/norm\n",
    "\n",
    "rN_array= np.array([-0.75/2, 0.75/2])\n",
    "\n",
    "uh = mo(x,rN_array,c_sigma)\n",
    "plt.plot(x,uh**2)\n",
    "\n",
    "uh = mo(x,rN_array,c_sigma_star)\n",
    "plt.plot(x,uh**2)"
   ]
  },
  {
   "cell_type": "markdown",
   "metadata": {},
   "source": [
    "Where are the nuclei A and B? What is the bond length in this model? How is it related to the PES above?\n",
    "\n",
    "Identify $\\sigma$ and $\\sigma^*$.\n",
    "\n",
    "Do you see any nodes?\n",
    "\n",
    "Where are the cusps in this wavefunction?\n",
    "\n",
    "What would the wavefunctions look like if we had used GTOs?\n",
    "\n",
    "The HF wavefunction, $|\\Psi\\rangle$, for the closed-shell singlet electron configuration, $\\sigma^2\\sigma^{*0}$,  is the Slater determinant\n",
    "\n",
    "$$\n",
    "|\\Psi\\rangle = \n",
    "\\left|\\begin{array}{cc}\\sigma(1)\\alpha(1) & \\sigma(2)\\alpha(2)\\\\\n",
    "\\sigma(1)\\beta(1) & \\sigma(2)\\beta(2)\n",
    "\\end{array}\n",
    "\\right|\n",
    "$$\n",
    "\n",
    "Confirm that the Slater determinant expands to\n",
    "\n",
    "$$\n",
    "|\\Psi\\rangle = \n",
    "\\sigma(1)\\sigma(2)[\\alpha(1)\\beta(2) - \\alpha(2)\\beta(1)]\n",
    "$$\n",
    "\n",
    "**Information** This expression for $\\Psi$ we will refer to as a *configuration state function* (CSF), because it is the function that expresses the particular electron configuration. In this case, the CSF can be expressed in a single determinant, but we will soon see other CSFs that cannot.\n",
    "\n",
    "Let's look at the spatial part of the closed-shell singlet wavefunction.\n",
    "\n",
    "$$\n",
    "\\Psi_1(r_1,r_2) = \\sigma(1)\\sigma(2)\n",
    "$$"
   ]
  },
  {
   "cell_type": "code",
   "execution_count": null,
   "metadata": {},
   "outputs": [],
   "source": [
    "r1 = x\n",
    "r2 = x\n",
    "R1, R2 = np.meshgrid(r1,r2)\n",
    "\n",
    "\n",
    "Psi1 = mo(R1,rN_array,c_sigma)*mo(R2,rN_array,c_sigma)\n",
    "\n",
    "# plot the wavefunction \n",
    "plt.contourf(R1,R2,Psi1)\n",
    "plt.title('Ground state wavefunction')\n",
    "plt.axis('square')\n",
    "plt.xlabel('r1')\n",
    "plt.ylabel('r2')"
   ]
  },
  {
   "cell_type": "markdown",
   "metadata": {},
   "source": [
    "Identify the value of $r_1$ where electron 1 is located on nucleus A.\n",
    "\n",
    "Identify the value of $r_2$ where electron 2 is located on nucleus A.\n",
    "\n",
    "In which quadrant of the graph is electron 1 on nucleus A and electron 2 is on nucleus A?\n",
    "\n",
    "Which scenario above is most like this graph?\n",
    "\n",
    "How are electrons treated in this representation, correlated or uncorrelated?"
   ]
  },
  {
   "cell_type": "markdown",
   "metadata": {},
   "source": [
    "Other electron configurations are going to fix our problems. Let's look at them now.\n",
    "\n",
    "There are two configurations with one electron excited (a single excitation) and one with both electrons excited (a double excitation).\n",
    "\n",
    "The wavefunction of one of the single excitations is \n",
    "$$\n",
    "\\Psi_2(r_1,r_2) = \\sigma(1)\\sigma^*(2)\n",
    "$$\n",
    "What is the other, $\\Psi_3(r_1,r_2)$?\n",
    "\n",
    "What is the wavefunction of the double excitation, $\\Psi_4(r_1,r_2)$?\n",
    "\n",
    "Write a Slater determinant for the case of a double excitation. (We will return to the single excitations later.)\n",
    "\n",
    "$$\n",
    "|\\Psi_4\\rangle = \n",
    "\\left|\\begin{array}{cc}\n",
    "\\sigma^*(1)\\alpha(1) & \\sigma^*(2)\\alpha(2)\\\\\n",
    "\\sigma^*(1)\\beta(1) & \\sigma^*(2)\\beta(2)\n",
    "\\end{array}\n",
    "\\right|\n",
    "$$\n",
    "\n",
    "Complete the code below to plot the singly and doubly excited wavefunctions. "
   ]
  },
  {
   "cell_type": "code",
   "execution_count": null,
   "metadata": {},
   "outputs": [],
   "source": [
    "Psi2 = mo(R1,rN_array,c_sigma)*mo(R2,rN_array,c_sigma_star)\n",
    "Psi3 = mo(R1,rN_array,c_sigma_star)*mo(R2,rN_array,c_sigma)\n",
    "Psi4 = mo(R1,rN_array,c_sigma_star)*mo(R2,rN_array,c_sigma_star)\n",
    "\n",
    "plt.figure()\n",
    "plt.contourf(R1,R2,Psi2)\n",
    "plt.title('Single excitation Psi2')\n",
    "plt.axis('square')\n",
    "\n",
    "plt.figure()\n",
    "plt.contourf(R1,R2,Psi3)\n",
    "plt.title('Single excitation Psi3')\n",
    "plt.axis('square')\n",
    "\n",
    "plt.figure()\n",
    "plt.contourf(R1,R2,Psi4)\n",
    "plt.title('Double excitation Psi4')\n",
    "plt.axis('square')"
   ]
  },
  {
   "cell_type": "markdown",
   "metadata": {},
   "source": [
    "Looking at the graphs above, identify the number of nodes in Psi2 through Psi4.\n",
    "\n",
    "Now, let's mix the ground state and the doubly excited state by taking linear combinations of the determinants.\n",
    "\n",
    "$$\n",
    "\\Psi_\\pm = \\Psi_1\\pm\\Psi_4\n",
    "$$\n",
    "\n",
    "and look at the resulting two-particle wavefunctions."
   ]
  },
  {
   "cell_type": "code",
   "execution_count": null,
   "metadata": {},
   "outputs": [],
   "source": [
    "\n",
    "plt.figure()\n",
    "plt.contourf(R1,R2,Psi1+Psi4)\n",
    "plt.title('Psi1+Psi4')\n",
    "plt.axis('square')\n",
    "\n",
    "plt.figure()\n",
    "plt.contourf(R1,R2,Psi1-Psi4)\n",
    "plt.title('Psi1-Psi4')\n",
    "plt.axis('square')\n",
    "\n",
    "\n",
    "\n"
   ]
  },
  {
   "cell_type": "markdown",
   "metadata": {},
   "source": [
    "In $\\Psi_+$, if electron 1 is on nucleus A, where is electron 2 most likely to be found?\n",
    "\n",
    "In $\\Psi_-$, if electron 1 is on nucleus A, where is electron 2 most likely to be found?\n",
    "\n",
    "How many nodes are in these wavefunctions?\n",
    "\n",
    "Which wavefunction, $\\Psi_+$ or $\\Psi_-$, best reproduces scenario 2 above?\n",
    "\n",
    "What would the other wavefunction represent?\n",
    "\n",
    "In your own words, explain how adding multiple determinants can introduce electron correlation to the HF wavefunction.\n",
    "\n"
   ]
  },
  {
   "cell_type": "markdown",
   "metadata": {},
   "source": [
    "# Configuration Interaction Adds More Determinants\n",
    "Configuration interaction (CI) calculations treat the wavefunction as a combination of multiple (sometimes very many!) determinants. For H$_2$ in a minimal basis, only single and double excitations are possible because there are only two electrons. CI with single and double excitations is called CISD.\n",
    "\n",
    "A wavefunction is constructed as a linear combination of determinants, and the variational principle is again used to find the lowest energy.\n",
    "\n",
    "Mixing configurations of the ground state (Hartree-Fock) single determinant with the doubly excited $\\Psi_4$ is called CI doubles, or CID.\n",
    "$$\n",
    "\\Psi_\\textrm{CI} = c_1\\Psi_1 + c_2\\Psi_4\n",
    "$$\n",
    "Additional determinants at the level of singles gives CISD. Triples makes CISDT, quadruples are CISDTQ, and so forth.\n",
    "\n",
    "Could say something about the orders -- singles don't mix with the ground state by symmetry (I htink the number of nodes argument above should suffice to motivate or maybe prove this) where the doubles can. The singles can mix with the doubles, though. \n",
    "\n",
    "Something about counting the number of possibilities?"
   ]
  },
  {
   "cell_type": "code",
   "execution_count": null,
   "metadata": {},
   "outputs": [],
   "source": [
    "method = 'cisd'\n",
    "psi4.core.set_output_file('output.dat', False)\n",
    "\n",
    "\n",
    "e_singlet = scan(h2_singlet,rAB_list,method)\n",
    "#print(e_singlet)\n",
    "\n",
    "e_triplet = scan(h2_triplet,rAB_list,method)\n",
    "#print(e_triplet)\n",
    "\n",
    "\n",
    "# Visualize energy profile\n",
    "x = rAB_list\n",
    "y1 = e_singlet\n",
    "y2 = e_triplet\n",
    "plt.title('CISD (correlation)')\n",
    "plt.plot(x,y1,'o-',x,y2,'-o')\n",
    "plt.xlabel('H2 Bond Length')\n",
    "plt.ylabel('Molecular Energy ($E_h$)')\n",
    "plt.show()\n",
    "\n",
    "print('done')\n",
    "print(F'Energy at the minimum {np.min(e_singlet)} Eh')"
   ]
  },
  {
   "cell_type": "markdown",
   "metadata": {},
   "source": [
    "Question: What is the energy difference between singlet and triplet states at rAB-> infinity? \n",
    "\n",
    "Which is better description of the dissociation of H$_2$, CISD or HF?\n",
    "\n",
    "What is the energy at $r_{AB}\\rightarrow\\infty$? How does that compare with the exact result?\n",
    "\n",
    "Look at the CISD energy of the ground state and compare to the HF energy? Which energy is more correct? Why?\n",
    "\n",
    "What is the energy difference between HF and CISD in units of kcal/mol? (Hint: 1 Ha = 627.509 kcal mol-1.)\n",
    "\n",
    "Which is better description of the bonding region of H$_2$, CISD or HF?\n",
    "\n",
    "**Information** Any time multiple electron configurations become close in energy, HF is in trouble because it is built on a single determinant. \n"
   ]
  },
  {
   "cell_type": "markdown",
   "metadata": {},
   "source": [
    "## The correlation that HF gets correct -- exchange correlation\n",
    "\n",
    "Let's return to the singly excited CSFs considering both space and spin.\n",
    "\n",
    "If we have two MOs, each occupied by one electron, and each electron with two spins, how many ways of arranging the electrons are there?\n",
    "\n",
    "The total wavefunction must be antisymmetric with respect to exchange. Because the wavefunction factorizes in to space and spin, either the spatial or spin parts of the wavefunction must be antisymmetric. If the spatial part is symmetric, the spin part must be antisymmetric and vice versa. The resulting combinations are a singlet and a three triplet states.\n",
    "\n",
    "The open-shell singlet is\n",
    "$$\n",
    "^0\\Psi = (\\sigma(1)\\sigma^*(2)+\\sigma^*(1)\\sigma(2))[\\alpha(1)\\beta(2)-\\alpha(2)\\beta(1)] \n",
    "$$\n",
    "The three triplets are\n",
    "\\begin{align}\n",
    "^3_1\\Psi &= (\\sigma(1)\\sigma^*(2)-\\sigma^*(1)\\sigma(2))\\alpha(1)\\alpha(2)\\\\ \n",
    "^3_0\\Psi &= (\\sigma(1)\\sigma^*(2)-\\sigma^*(1)\\sigma(2))[\\alpha(1)\\beta(2)+\\alpha(2)\\beta(1)] \\\\\n",
    "^3_{-1}\\Psi &= (\\sigma(1)\\sigma^*(2)-\\sigma^*(1)\\sigma(2))\\beta(1)\\beta(2)\n",
    "\\end{align}\n",
    "\n",
    "\n"
   ]
  },
  {
   "cell_type": "code",
   "execution_count": null,
   "metadata": {},
   "outputs": [],
   "source": [
    "Psi_OSS = mo(R1,rN_array,c_sigma)*mo(R2,rN_array,c_sigma_star)+mo(R1,rN_array,c_sigma_star)*mo(R2,rN_array,c_sigma)\n",
    "Psi_triplet = mo(R1,rN_array,c_sigma)*mo(R2,rN_array,c_sigma_star)-mo(R1,rN_array,c_sigma_star)*mo(R2,rN_array,c_sigma)\n",
    "\n",
    "\n",
    "plt.figure()\n",
    "plt.contourf(R1,R2,Psi_OSS)\n",
    "plt.title('Psi_OSS')\n",
    "plt.axis('square')\n",
    "\n",
    "plt.figure()\n",
    "plt.contourf(R1,R2,Psi_triplet)\n",
    "plt.title('Psi_triplet')\n",
    "plt.axis('square')\n",
    "\n",
    "\n"
   ]
  },
  {
   "cell_type": "markdown",
   "metadata": {},
   "source": [
    "Which of the two wavefunctions localizes the electrons on opposite nuclei? \n",
    "\n",
    "Which puts them on the same nuclei?\n",
    "\n",
    "How many nodes are there in these wavefunctions?\n",
    "\n",
    "In the $^3_1\\Psi$, the cancellation of electrons is called a \"Fermi hole.\" Because, for a triplet, the spins are identical, the spatial part of the wavefunction must have the minus sign, and the electrons cannot be in the same location. The triplet energy is correct because of this cancellation.\n",
    "\n",
    "Notice that the open-shell singlet tends to pair the electrons, in what is called a \"Fermi heap.\" Propose a physical interpretation of the open-shell singlet state.\n",
    "\n",
    "\n",
    "\n"
   ]
  },
  {
   "cell_type": "markdown",
   "metadata": {},
   "source": [
    "## Correlation in the bonding region\n",
    "HF failed spectacularly to describe the dissociation of H$_2$. It is much better in the bonding regions, but chemical accuracy often requires incorporating additional electron correlation effects. \n",
    "\n",
    "\n",
    "TO DO: Propose some molecules and look at changes in the bonding properties?\n"
   ]
  },
  {
   "cell_type": "markdown",
   "metadata": {},
   "source": [
    "## Other approaches to adding electron correlation\n",
    "### CI S D T Q H ... Full CI\n",
    "Systematic improvements but the number of determinants grows really fast, so this is a mess.\n",
    "\n",
    "### MP2\n",
    "It involves the double excitations! \n",
    "\n",
    "Nonvariational nature means it tends to overestimate corrections.\n",
    "\n",
    "### Coupled-Cluster\n",
    "A way to get higher orders of single- and double-excitation operators...\n",
    "\n",
    "It is not variational but seems very close to the variational results for reasons that are beyond me. "
   ]
  },
  {
   "cell_type": "markdown",
   "metadata": {},
   "source": [
    "## Dispersion interactions are electron correlation effects\n",
    "\n"
   ]
  },
  {
   "cell_type": "code",
   "execution_count": null,
   "metadata": {},
   "outputs": [],
   "source": [
    "\n",
    "# singlet H2 has a charge of 0, spin multiplicity of 1 (m_s=0)\n",
    "he_dimer = \"\"\"\n",
    "0 1\n",
    "He \n",
    "He 1 {}\n",
    "\"\"\"\n",
    "\n",
    "be_dimer = \"\"\"\n",
    "0 1\n",
    "Be \n",
    "Be 1 {}\n",
    "\"\"\"\n",
    "\n",
    "ar_dimer = \"\"\"\n",
    "0 1\n",
    "Ar \n",
    "Ar 1 {}\n",
    "\"\"\"\n",
    "\n",
    "\n",
    "# for He\n",
    "rAB_list = [2.75, 2.87, 3, 3.5, 4, 10]\n",
    "\n",
    "# for Ar\n",
    "rAB_list = [3.5, 3.75, 4, 4.5, 5, 6, 10]\n",
    "\n",
    "print(rAB_list)\n",
    "\n",
    "def scan(geom,rAB,method='SCF',basis='sto-3g'):\n",
    "    t_start = time.perf_counter()\n",
    "    \n",
    "    # set computation options\n",
    "    psi4.set_options({'basis': basis,\n",
    "                  'reference': 'rohf'})\n",
    "\n",
    "    e = ['']*len(rAB)\n",
    "    count = -1\n",
    "    for rAB in rAB_list:\n",
    "        #print(rAB)\n",
    "        count = count+1\n",
    "        mol = psi4.geometry(geom.format(rAB))\n",
    "        e[count] = psi4.energy(method,molecule=mol)\n",
    "        \n",
    "    t_diff = time.perf_counter() - t_start\n",
    "    #print(F'Energy at the minimum {np.min(e)} Eh located at {rAB_list[np.argmin(e)]} a0')\n",
    "    r_min = rAB_list[np.argmin(e)]\n",
    "    e_min = np.min(e)\n",
    "    de = e_min - e[-1]\n",
    "    print(F'\\nr_min/a0\\tE_min/a.u.\\tdE/a.u.')\n",
    "    #print(F'{r_min}\\t{e_min}\\t{de}')\n",
    "    print('%8.5f\\t%8.3f\\t%8.6f' % (r_min, e_min, de))\n",
    "    print(F'\\n{method} time elapsed {t_diff} s')\n",
    "    psi4.core.clean()\n",
    "    return e\n",
    "\n",
    "def listdiff(e,ind=-1):\n",
    "    return list(np.array(e)-np.array(e[ind]))\n",
    "\n",
    "mol = ar_dimer\n",
    "\n",
    "basis = 'cc-pVTZ'\n",
    "#basis = 'cc-pVDZ'\n",
    "\n",
    "method = 'SCF'\n",
    "t_start = time.perf_counter()\n",
    "e_hf = scan(mol,rAB_list,method,basis)\n",
    "#print(e_hf)\n",
    "\n",
    "method = 'MP2' #1.5 times slower\n",
    "e_mp2 = scan(mol,rAB_list,method,basis)\n",
    "#print(e_mp2)\n",
    "\n",
    "method = 'CCSD' #10 times slower\n",
    "e_ccsd = scan(mol,rAB_list,method,basis)\n",
    "#print(e_ccsd)\n",
    "\n",
    "method = 'CISD' #100 times slower\n",
    "e_cisd = scan(mol,rAB_list,method,basis)\n",
    "#print(e_cisd)\n",
    "\n",
    "\n",
    "# Visualize energy profile\n",
    "x = rAB_list\n",
    "#y1 = list(np.array(e_hf)-np.array(e_hf[-1]))\n",
    "y1 = listdiff(e_hf)\n",
    "y2 = listdiff(e_mp2)\n",
    "y3 = listdiff(e_ccsd)\n",
    "y4 = listdiff(e_cisd)\n",
    "plt.title('PES')\n",
    "plt.plot(x,y1,'o-')\n",
    "plt.plot(x,y2,'-o')\n",
    "plt.plot(x,y3,'-o')\n",
    "plt.plot(x,y4,'-o')\n",
    "plt.xlabel('rAB')\n",
    "plt.ylabel('Molecular Energy ($E_h$)')\n",
    "plt.legend(('SCF','MP2','CCSD','CISD'))\n",
    "plt.show()\n",
    "\n",
    "print('done')\n",
    "\n"
   ]
  },
  {
   "cell_type": "code",
   "execution_count": null,
   "metadata": {},
   "outputs": [],
   "source": [
    "e_cisd = e_ccid\n",
    "\n",
    "\n",
    "# Visualize energy profile\n",
    "x = rAB_list\n",
    "#y1 = list(np.array(e_hf)-np.array(e_hf[-1]))\n",
    "y1 = listdiff(e_hf)\n",
    "y2 = listdiff(e_mp2)\n",
    "y3 = listdiff(e_ccsd)\n",
    "y4 = listdiff(e_cisd)\n",
    "plt.title('PES')\n",
    "plt.plot(x,y1,'o-')\n",
    "plt.plot(x,y2,'-o')\n",
    "plt.plot(x,y3,'-o')\n",
    "plt.plot(x,y4,'-o')\n",
    "plt.xlabel('rAB')\n",
    "plt.ylabel('Molecular Energy ($E_h$)')\n",
    "plt.legend(('SCF','MP2','CCSD','CISD'))\n",
    "plt.show()\n",
    "\n",
    "\n"
   ]
  },
  {
   "cell_type": "markdown",
   "metadata": {},
   "source": [
    "# Trying to plot the wavefunction!!!! ARGH!"
   ]
  },
  {
   "cell_type": "code",
   "execution_count": null,
   "metadata": {},
   "outputs": [],
   "source": [
    "help(wfn)"
   ]
  },
  {
   "cell_type": "code",
   "execution_count": null,
   "metadata": {},
   "outputs": [],
   "source": []
  },
  {
   "cell_type": "code",
   "execution_count": null,
   "metadata": {},
   "outputs": [],
   "source": [
    "help( psi4.core.Wavefunction)"
   ]
  },
  {
   "cell_type": "code",
   "execution_count": null,
   "metadata": {},
   "outputs": [],
   "source": [
    "h2_singlet = \"\"\"\n",
    "0 1\n",
    "H \n",
    "H 1 0.75\n",
    "\"\"\"\n",
    "#minimal basis\n",
    "basis='sto-3g'\n",
    "\n",
    "#bigger basis takes a few seconds\n",
    "#basis = 'cc-pvtz'\n",
    "\n",
    "# set computation options\n",
    "psi4.set_options({'basis': basis,\n",
    "                  'reference': 'rohf'})\n",
    "\n",
    "mol = psi4.geometry(h2_singlet)\n",
    "wfn=psi4.core.Wavefunction.build(mol, psi4.core.get_global_option('basis'))\n",
    "\n",
    "ndocc = wfn.nalpha()\n",
    "nbf = wfn.basisset().nbf()\n",
    "\n",
    "print(F'Number of occupied orbitals: {ndocc}')\n",
    "print(F'Number of basis functions: {nbf}') \n"
   ]
  },
  {
   "cell_type": "code",
   "execution_count": null,
   "metadata": {},
   "outputs": [],
   "source": [
    "# Construct a molecular integrals object\n",
    "mints = psi4.core.MintsHelper(wfn.basisset())\n",
    "\n",
    "# Overlap matrix as a psi4 Matrix object\n",
    "S_matrix = mints.ao_overlap()\n",
    "\n",
    "# Overlap matrix converted into an ndarray\n",
    "S = np.asarray(S_matrix) \n",
    "\n",
    "print(F'Shape of S is {S.shape}')"
   ]
  },
  {
   "cell_type": "code",
   "execution_count": null,
   "metadata": {},
   "outputs": [],
   "source": [
    "e,wfn_out=psi4.energy('SCF',molecule=mol,return_wfn='true')\n",
    "print(e)\n",
    "#wfn coeffs\n",
    "Ca = wfn_out.Ca().to_array(dense='true')\n",
    "Cb = wfn_out.Cb().to_array(dense='true')\n",
    "#density matrices\n",
    "Da = wfn_out.Da().to_array(dense='true')\n",
    "Db = wfn_out.Db().to_array(dense='true')\n",
    "#eigenvalues\n",
    "epsilon_a = wfn_out.epsilon_a().to_array(dense='true')\n",
    "epsilon_b = wfn_out.epsilon_b().to_array(dense='true')\n",
    "aotoso = wfn_out.aotoso().to_array(dense='true')\n",
    "\n",
    "print('coeffs')\n",
    "print(Ca)\n",
    "print(Cb)\n",
    "print('densities')\n",
    "print(Da)\n",
    "print(Db)\n",
    "print('eigenvalues')\n",
    "print(epsilon_a)\n",
    "print(epsilon_b)\n",
    "\n",
    "#not sure\n",
    "print(aotoso)\n",
    "print(aotoso.dot(Ca))\n",
    "\n",
    "#\n",
    "S = wfn_out.S().to_array(dense='true')\n",
    "print()\n",
    "\n",
    "print(F'S=\\n{S}')\n",
    "A = splinalg.sqrtm(np.linalg.inv(S))\n",
    "C=A.dot(Ca)\n",
    "print(C)\n",
    "\n",
    "# I think what I need is a way to \"simply\" evaluate the wavefunction amplitude as a function of r1 and r2. How can I do that?\n",
    "#If I can do that I can plot the wavefunction amplitude (or square) on a grid over A and B"
   ]
  },
  {
   "cell_type": "code",
   "execution_count": null,
   "metadata": {},
   "outputs": [],
   "source": [
    "help(wfn)"
   ]
  },
  {
   "cell_type": "code",
   "execution_count": null,
   "metadata": {},
   "outputs": [],
   "source": [
    "help(psi4.core.MintsHelper)"
   ]
  },
  {
   "cell_type": "code",
   "execution_count": null,
   "metadata": {},
   "outputs": [],
   "source": [
    "help(psi4.core)"
   ]
  },
  {
   "cell_type": "code",
   "execution_count": null,
   "metadata": {},
   "outputs": [],
   "source": [
    "wfn.p"
   ]
  },
  {
   "cell_type": "code",
   "execution_count": null,
   "metadata": {},
   "outputs": [],
   "source": [
    "help(psi4.core.MintsHelper)"
   ]
  },
  {
   "cell_type": "code",
   "execution_count": null,
   "metadata": {},
   "outputs": [],
   "source": [
    "mints = psi4.core.MintsHelper(wfn)\n",
    "np.asarray(mints.ao_overlap())"
   ]
  },
  {
   "cell_type": "code",
   "execution_count": null,
   "metadata": {},
   "outputs": [],
   "source": [
    "\n",
    "help(psi4.energy)"
   ]
  },
  {
   "cell_type": "code",
   "execution_count": null,
   "metadata": {},
   "outputs": [],
   "source": [
    "help(psi4.core.Matrix)"
   ]
  },
  {
   "cell_type": "code",
   "execution_count": null,
   "metadata": {},
   "outputs": [],
   "source": [
    "help(psi4.core.BasisSet\n",
    "    )"
   ]
  },
  {
   "cell_type": "code",
   "execution_count": null,
   "metadata": {},
   "outputs": [],
   "source": [
    "help(psi4.core.MolecularGrid)"
   ]
  },
  {
   "cell_type": "code",
   "execution_count": null,
   "metadata": {},
   "outputs": [],
   "source": [
    "help(psi4.cubeprop)"
   ]
  },
  {
   "cell_type": "code",
   "execution_count": null,
   "metadata": {
    "scrolled": true
   },
   "outputs": [],
   "source": [
    "help()"
   ]
  },
  {
   "cell_type": "code",
   "execution_count": null,
   "metadata": {},
   "outputs": [],
   "source": [
    "help(wfn)"
   ]
  }
 ],
 "metadata": {
  "kernelspec": {
   "display_name": "Python 3",
   "language": "python",
   "name": "python3"
  },
  "language_info": {
   "codemirror_mode": {
    "name": "ipython",
    "version": 3
   },
   "file_extension": ".py",
   "mimetype": "text/x-python",
   "name": "python",
   "nbconvert_exporter": "python",
   "pygments_lexer": "ipython3",
   "version": "3.6.10"
  }
 },
 "nbformat": 4,
 "nbformat_minor": 4
}
