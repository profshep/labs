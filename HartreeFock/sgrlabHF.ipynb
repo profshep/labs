{
 "cells": [
  {
   "cell_type": "markdown",
   "metadata": {},
   "source": [
    "This lab activity is intended to teach students the mechanics of the Hartree-Fock procedure, without getting into the details of calculating the 1 and 2 electron integrals, by using the machinary of the Psi4 quantum chemistry software package.\n",
    "\n",
    "Prerequisite knowledge:  This lab assumes that the students understand the principles, though not the mathematics, of constructing the Fock matrix and that diagaonlizing the Fock matrix leads to the molecular orbital energies and coefficients.  The lab also assumes all the [standard python pre-requisites of all Psi4Education labs](https://admiring-tesla-08529a.netlify.com/posts/psi4jupyter_labs/).  \n",
    "\n",
    "Learning ojbectives:\n",
    "1. Recognize that the AO basis is not orthonormal and must be transformed.\n",
    "2. Transform a from one basis to another using a transformation matrix.\n",
    "3. Recognize the interative nature of the HF procedure and what leds to the need for the iterative process.  \n",
    "4. Define convergence and use convergence criteria in a self-consistent procedure. \n",
    "5. Calculate MO energies and coefficients by diagonalizing the Fock matrix.  \n",
    "\n",
    "Based on:\n",
    "Authors: Ashley Ringer McDonald (armcdona@calpoly.edu; [ORCID: 0000-0002-4381-1239](https://orcid.org/0000-0002-4381-1239)) and Dominic A. Sirianni (sirianni.dom@gmail.com; [ORCID: 0000-0002-6464-0213](https://orcid.org/0000-0002-6464-0213) )\n",
    "Modified by Sean Garrett-Roe (sgr@pitt.edu)\n",
    "\n",
    "Copyright: Psi4Education Project, 2019\n"
   ]
  },
  {
   "cell_type": "markdown",
   "metadata": {},
   "source": [
    "# Introduction: Hartree-Fock Procedure for Approximate Quantum Chemistry"
   ]
  },
  {
   "cell_type": "code",
   "execution_count": 84,
   "metadata": {},
   "outputs": [],
   "source": [
    "# ==> Import Psi4 & NumPy <==\n",
    "import psi4\n",
    "import numpy as np"
   ]
  },
  {
   "cell_type": "markdown",
   "metadata": {},
   "source": [
    "## Warm up with the H atom\n",
    "By solving the Hydrogen atom Schrödinger equation, we saw that the expression for the different\n",
    "energy levels is given by:\n",
    "\n",
    "$$E_{n} = \\frac{m_e e^4}{8\\epsilon_0^2h^2n^2}=\\frac{m_ee^4}{2(4\\pi\\epsilon_0)^2\\hbar^2n^2}\\qquad(1)$$\n",
    "\n",
    "Atomic units (a.u.) are based on fundamental quantities so that many physical constants have numerical values of 1: \n",
    "\n",
    "| Symbol | Quantity | Value in a.u. | Value in SI units\n",
    "|---|---|---|---|\n",
    "| $e$ | electron charge| 1 |$1.602\\times 10^{-19}$ C |\n",
    "| $m_e$ | electron mass| 1 |$9.110\\times 10^{-31}$ kg |\n",
    "| $\\hbar$ | angular momentum| 1 |$1.055\\times 10^{-34}$ J s |\n",
    "| $a_0$ | Bohr radius (atomic distance unit)| 1 |$5.292\\times 10^{-11}$ m |\n",
    "| $E$ | Hartree energy (atomic energy unit)| 1 |$4.360\\times 10^{-18}$ J |\n",
    "| $4\\pi\\epsilon_0$ | vacuum permittivity| 1 |$1.113\\times 10^{-10}$ C$^2$/J m |. \n",
    "\n",
    "#### 1) Verify that the two forms of Eq. (1) agree.\n"
   ]
  },
  {
   "cell_type": "markdown",
   "metadata": {},
   "source": [
    "#### 2) Rewrite $E_n$ in atomic units.\n",
    "Use the values for the physical constants $e$, $m_e$, $\\hbar$, and $4\\pi\\epsilon_0$ in the table above. (edit formula below)\n",
    "$$E_n = \\frac{}{}\\qquad(a.u.)$$ "
   ]
  },
  {
   "cell_type": "markdown",
   "metadata": {},
   "source": [
    "By looking up the values of these constants, we can also compute the ground state energy of the Hydrogen atom\n",
    "numerically. In the cell below, compute the exact H atom ground state energy in SI units and explicitly convert from SI to hartrees:"
   ]
  },
  {
   "cell_type": "code",
   "execution_count": 85,
   "metadata": {},
   "outputs": [
    {
     "name": "stdout",
     "output_type": "stream",
     "text": [
      "The exact ground state energy in SI units is: 2.1798723610862185e-18\n",
      "The exact ground state energy in atomic units is: 0.5000000082771404\n"
     ]
    }
   ],
   "source": [
    "# ==> Toy Example: The Hydrogen Atom <==\n",
    "# Define fundamental constants in SI units\n",
    "m_e = 9.1093837015e-31 # kg\n",
    "e = 1.602176634e-19 # C\n",
    "epsilon_0 = 8.8541878128e-12 # F / m\n",
    "h = 6.62607015e-34 # J*s\n",
    "n = 1\n",
    "\n",
    "# Define a.u. to SI energy conversion factor (https://en.wikipedia.org/wiki/Hartree)\n",
    "hartree2joules = 4.359744650e-18\n",
    "\n",
    "# Compute ground state energy of H atom in SI units using constants above\n",
    "E_1 = (m_e * e**4) / (8 * epsilon_0**2 * h**2 * n**2)\n",
    "\n",
    "# Convert to atomic units\n",
    "E_1_au = E_1 / hartree2joules\n",
    "\n",
    "print(f'The exact ground state energy in SI units is: {E_1}')\n",
    "print(f'The exact ground state energy in atomic units is: {E_1_au}')"
   ]
  },
  {
   "cell_type": "markdown",
   "metadata": {},
   "source": [
    "#### 3) Numerically find the H atom energy with Psi4.\n",
    "\n",
    "We obtained the Hydrogen atom energy expression above by solving the Schrödinger equation exactly.\n",
    "But what happens if we cannot do this?\n",
    "\n",
    "That's where Hartree-Fock molecular orbital theory comes in! Just as a test case, let's use Psi4 to compute the\n",
    "Hartree-Fock wavefunction and energy for the Hydrogen atom:"
   ]
  },
  {
   "cell_type": "code",
   "execution_count": 86,
   "metadata": {
    "scrolled": true
   },
   "outputs": [
    {
     "name": "stdout",
     "output_type": "stream",
     "text": [
      "The H atom energy in Eh: -0.4999948009253356 Eh\n",
      "The H atom energy in J: -2.1798496583620466e-18 J\n"
     ]
    }
   ],
   "source": [
    "# ==> Compute H atom energy with Hartree-Fock using Psi4 <==\n",
    "\n",
    "# the H atom has a charge of 0, spin multiplicity of 2 (m_s=1/2), and we place it at the xyz origin (0,0,0)\n",
    "h_atom = psi4.geometry(\"\"\"\n",
    "0 2\n",
    "H 0 0 0\n",
    "\"\"\")\n",
    "\n",
    "psi4.set_options({'reference': 'rohf',\n",
    "                  'scf_type': 'pk'\n",
    "                 })\n",
    "e = psi4.energy('scf/d-aug-cc-pv5z')\n",
    "\n",
    "print(f\"The H atom energy in Eh: {e} Eh\")\n",
    "print(f\"The H atom energy in J: {e * psi4.constants.hartree2J} J\")"
   ]
  },
  {
   "cell_type": "markdown",
   "metadata": {},
   "source": [
    "## The Hartree-Fock procedure\n",
    "In this lab activity, you will be building and diagonalizing the Fock matrix to determine the MO coefficients and energies for a molecule.  We will be using the functions of the Psi4 quantum chemistry software package to compute the integrals we need.  The following notebook will lead you through setting up your molecule, establishing the basis set, and forming and diagonalizing the Fock matrix.  Be sure to run each cell as your proceed through the notebook."
   ]
  },
  {
   "cell_type": "markdown",
   "metadata": {},
   "source": [
    "### Specifying the molecule\n",
    "\n",
    "H$_2$O is a small but interesting molecule to use in our exploration. \n",
    "\n",
    "#### 4) Based on your chemical intuition, answer the following questions for the H$_2$O molecule:\n",
    "##### How many electrons are there in total?\n",
    "##### How many electrons are paired and how many are unpaired?\n",
    "##### How many occupied molecular orbitals would you expect?"
   ]
  },
  {
   "cell_type": "markdown",
   "metadata": {},
   "source": [
    "Before we can begin to implement the HF procedure, we need to specifcy the molecule and basis set that we will be using.  We will also set the memory usage for our calcluation and the output file name.  "
   ]
  },
  {
   "cell_type": "code",
   "execution_count": 87,
   "metadata": {},
   "outputs": [],
   "source": [
    "# ==> Set Basic Psi4 Options <==\n",
    "# Memory specification\n",
    "psi4.set_memory('500 MB')\n",
    "numpy_memory = 2 # No NumPy array can exceed 2 MB in size\n",
    "\n",
    "# Set output file\n",
    "psi4.core.set_output_file('output.dat', False)\n",
    "\n",
    "# Set computation options\n",
    "psi4.set_options({'basis': 'cc-pvdz',\n",
    "                  'scf_type': 'pk',\n",
    "                  'e_convergence': 1e-8})\n",
    "\n",
    "# ==> Define Molecule <==\n",
    "# Define our model of water -- we will distort the molecule later, which may require C1 symmetry\n",
    "mol = psi4.geometry(\"\"\"\n",
    "O\n",
    "H 1 1.1\n",
    "H 1 1.1 2 104\n",
    "symmetry c1\n",
    "\"\"\")\n",
    "\n"
   ]
  },
  {
   "cell_type": "markdown",
   "metadata": {},
   "source": [
    "Next, we need to build the wavefunction from the basis functions.  We store the wavefunction in a variable called `wfn`. We use the function `nalpha()` provided by the wavefunction object we created above, `wfn`, to determine the number of orbitals with spin alpha, which will be doubly occupied orbitals for close shelled systems. We save this answer as a variable called `ndocc` (number of doubly occupied orbitals).  \n",
    "\n",
    "#### Confirm that the number of doubly occupied orbitals matches your expectation for the molecule you chose."
   ]
  },
  {
   "cell_type": "code",
   "execution_count": 88,
   "metadata": {},
   "outputs": [
    {
     "name": "stdout",
     "output_type": "stream",
     "text": [
      "Number of occupied orbitals: 5\n",
      "Number of basis functions: 24\n"
     ]
    }
   ],
   "source": [
    "# ==> Compute static 1e- and 2e- quantities with Psi4 <==\n",
    "wfn = psi4.core.Wavefunction.build(mol, psi4.core.get_global_option('basis'))\n",
    "\n",
    "#number of spin alpha orbitals (doubly occupied for closed-shell systems)\n",
    "ndocc = wfn.nalpha()\n",
    "nbf = wfn.basisset().nbf()\n",
    "\n",
    "print(F'Number of occupied orbitals: {ndocc}')\n",
    "print(F'Number of basis functions: {nbf}') "
   ]
  },
  {
   "cell_type": "markdown",
   "metadata": {},
   "source": [
    "### Orthogonalizing the AO basis set"
   ]
  },
  {
   "cell_type": "markdown",
   "metadata": {},
   "source": [
    "Recall that if we had used the hydrogen atom wavefunctions as our basis set, the AO wavefunctions would all be orthonormal.  Since we used a basis set of Gaussian wavefuctions, this may not be the case.  We need to check our the overlap integral array and see if we have an orthonormal basis.\n",
    "\n",
    "**Overlap integrals are matrix elements** For a set of basis functions, $\\phi_i(\\tau)$, where $\\tau$ is a shorthand for all the coordinates of all the particles, we can calculate the overlap integrals between the basis functions in the following way\n",
    "\n",
    "$$S_{ij}=\\int {\\rm d}\\tau\\; \\phi_i^*(\\tau)\\phi_j(\\tau).$$\n",
    "\n",
    "In Dirac notation, for basis set $|\\phi_i\\rangle$, the overlap matrix elements between $|\\phi_i\\rangle$ and $|\\phi_j\\rangle$ are\n",
    "\n",
    "$$S_{ij}=\\langle \\phi_i|\\phi_j\\rangle,$$\n",
    "\n",
    "These overlap integrals, $S_{ij}$, can be interpreted as the elements on the $i$-th row and $j$-th column of a matrix, $S$.\n",
    "\n",
    "**The overlap matrix** Let's propose a matrix, `S`, made of the overlap integrals $S_{ij}$. We can build `S` systematically in the following way. First, make a matrix, `B`, composed of our basis vectors as columns,\n",
    "\n",
    "$$ B = \\left(\\begin{array}{ccc}|& |&|\\\\ \\phi_1 &\\phi_2&\\phi_3\\\\|&|&|\\end{array}\\right).$$\n",
    "\n",
    "Multiplying the rows of $B^\\dagger$ by the columns of $B$ (normal matrix multiplication) produces a matrix of the overlap integrals in the correct locations. we defined to be the matrix $S$.\n",
    "\n",
    "$$B^\\dagger B =\\left(\\begin{array}{ccc}-& \\phi_1^*&-\\\\-& \\phi_2^* &-\\\\-&\\phi_3&-\\end{array}\\right) \\left(\\begin{array}{ccc}|& |&|\\\\ \\phi_1 &\\phi_2&\\phi_3\\\\|&|&|\\end{array}\\right)\\equiv S.$$\n",
    "\n",
    "**Einstein implicit summation notation** Matrix multiplication is defined through\n",
    "\n",
    "$$(AB)_{pq}= \\sum_i A_{p,i}B_{i,q}\\qquad\\text{explicit summation}$$\n",
    "\n",
    "Note that there is a repeated index, $i$, in the summation. In implicit summation notation, Einstein notation, we do not write the $\\sum$ and treat the summation as understood. \n",
    "\n",
    "$$(AB)_{pq}=A_{p,i}B_{i,q}\\qquad\\text{implicit summation}$$\n",
    "\n",
    "Using implicit summation for the case at hand, $B^\\dagger B$ gives\n",
    "\n",
    "$$S_{pq}=(B^\\dagger B)_{pq}= (B^\\dagger)_{p,i}B_{i,q}\\qquad\\text{implicit summation}$$\n",
    "$$= (B^*)_{i,p}B_{i,q}\\qquad\\text{implicit summation}$$\n",
    "\n",
    "where $B^*$ is the complex conjugate of $B$ (no transpose). Note that the two sets of indices, $(i,p)$ and $(i,q)$, in the input matrices become one set, $(p,q)$, in the product. There is a convenient function in `numpy` that uses this notation `numpy.einsum('ip,iq->pq',B,B)`, as demonstrated below. \n",
    "\n",
    "Let's try this with a simple basis set of two perhaps orthonormal vectors."
   ]
  },
  {
   "cell_type": "code",
   "execution_count": 156,
   "metadata": {},
   "outputs": [
    {
     "name": "stdout",
     "output_type": "stream",
     "text": [
      "Phi1: [0. +1.j 0.1+0.j]\n",
      "Phi2: [0 1]\n",
      "\n",
      "The matrix elements of S:\n",
      "(1.01+0j) (0.1+0j)\n",
      "(0.1+0j) 1\n",
      "\n",
      "The matrix of eigenvectors in columns B =\n",
      " [[0. +1.j 0. +0.j]\n",
      " [0.1+0.j 1. +0.j]] \n",
      "\n",
      "and S = B^\\dagger B =\n",
      "[[1.01+0.j 0.1 +0.j]\n",
      " [0.1 +0.j 1.  +0.j]]\n",
      "\n",
      "S from Einstein notation:\n",
      "[[1.01+0.j 0.1 +0.j]\n",
      " [0.1 +0.j 1.  +0.j]]\n",
      "to be deleted\n",
      "[[ 0.99875234+0.j -0.04993762+0.j]\n",
      " [-0.04993762+0.j  1.0037461 +0.j]]\n",
      "[[ 1.00000000e+00+0.j -1.47719713e-16+0.j]\n",
      " [-2.40581290e-16+0.j  1.00000000e+00+0.j]]\n",
      "[[1.0037461 +0.j 0.04993762+0.j]\n",
      " [0.04993762+0.j 0.99875234+0.j]]\n"
     ]
    }
   ],
   "source": [
    "#a first basis vector\n",
    "#phi1 = 1/np.sqrt(2)*np.array([1,1])\n",
    "phi1 = np.array([1j,0.1])\n",
    "print(F'Phi1: {phi1}')\n",
    "\n",
    "#define an orthogonal basis vector\n",
    "#phi2 = 1/np.sqrt(2)*np.array([1,-1])\n",
    "phi2 = np.array([0,1])\n",
    "print(F'Phi2: {phi2}')\n",
    "print()#empty line\n",
    "\n",
    "#calculate the overlap (inner product) of the vectors \n",
    "S_11 = phi1.conj().dot(phi1)\n",
    "S_12 = phi1.conj().dot(phi2) ###remove r.h.s. from student code\n",
    "S_21 = phi2.conj().dot(phi1) #\"\n",
    "S_22 = phi2.conj().dot(phi2) #\"\n",
    "print('The matrix elements of S:')\n",
    "print(S_11,S_12)\n",
    "print(S_21,S_22)\n",
    "print()\n",
    "\n",
    "#construct the overlap matrix from matrix of basis vectors\n",
    "vector_length = phi1.size #length of the vector space\n",
    "phi1_column = phi1.reshape(vector_length,1) #this makes phi a column vector\n",
    "phi2_column = phi2.reshape(vector_length,1)\n",
    "\n",
    "# put together (concatenate) the vectors into the matrix B\n",
    "B = np.concatenate((phi1_column,phi2_column),axis=1)\n",
    "\n",
    "#calculate S from matrix of basis vectors\n",
    "S = B.conj().T.dot(B) #read left to right: ((B complex conj) transpose) times B\n",
    "print(F'The matrix of eigenvectors in columns B =\\n {B} \\n\\nand S = B^\\dagger B =\\n{S}\\n')\n",
    "\n",
    "#calculate S from Einstein sum\n",
    "S = np.einsum('ip,iq->pq',B.conj(),B)\n",
    "print(F'S from Einstein notation:\\n{S}')\n",
    "\n",
    "#testy\n",
    "print('to be deleted')\n",
    "import scipy as sp\n",
    "A = sp.linalg.sqrtm(np.linalg.inv(S))\n",
    "print(A)\n",
    "print(A.dot(S).dot(A))\n",
    "print(np.linalg.inv(A))\n"
   ]
  },
  {
   "cell_type": "markdown",
   "metadata": {},
   "source": [
    "#### Question:  For an orthonormal basis, what does the overlap integral array, `S`, look like?"
   ]
  },
  {
   "cell_type": "markdown",
   "metadata": {},
   "source": [
    "**Answer:** It would be 1's along the diagonal and 0's for all other matrix elements, i.e. an identity matrix."
   ]
  },
  {
   "cell_type": "markdown",
   "metadata": {},
   "source": [
    "#### Propose a different orthonormal basis, modify `phi1` and `phi2`, and verify that `S` still has the same form. There are infinitely many choices. It isn't complex... or *is* it?!"
   ]
  },
  {
   "cell_type": "markdown",
   "metadata": {},
   "source": [
    "**Answer:**  The choice $1/\\sqrt{2}(1, 1)$ and $1/\\sqrt{2}(1, -1)$ are easy to motivate. The pair $(1i,0)$ and $(0,1)$ is an obvious choice for complex vectors."
   ]
  },
  {
   "cell_type": "markdown",
   "metadata": {},
   "source": [
    "#### Propose what will happen to `S` if the vectors are not orthonormal. Test your prediction!"
   ]
  },
  {
   "cell_type": "markdown",
   "metadata": {},
   "source": [
    "### Gaussian atomic orbital basis set\n",
    "Next we will examine the atomic orbital basis set. To do this, we have to set up a data structure, called a class, to calculate the molecular integrals. (Psi4 will do the nasty calculus for us.) We will call this data structure `mints` (Molecular INTegralS). We use the function `ao_overlap` to calculate the overlap integrals between all the AO basis functions.  We cast this to a numpy array called `S`. \n",
    "\n",
    "_(Python programming aside: `asarray()` is a special case of `array()` that does not copy arrays when compatible and converts array subclasses to base class ndarrays. https://stackoverflow.com/questions/14415741/what-is-the-difference-between-numpys-array-and-asarray-functions)_ "
   ]
  },
  {
   "cell_type": "code",
   "execution_count": 130,
   "metadata": {},
   "outputs": [
    {
     "name": "stdout",
     "output_type": "stream",
     "text": [
      "Shape of S is (24, 24)\n"
     ]
    }
   ],
   "source": [
    "# Construct a molecular integrals object\n",
    "mints = psi4.core.MintsHelper(wfn.basisset())\n",
    "\n",
    "# Overlap matrix converted into an ndarray\n",
    "S = np.asarray(mints.ao_overlap()) \n",
    "\n",
    "print(F'Shape of S is {np.shape(S)}')"
   ]
  },
  {
   "cell_type": "markdown",
   "metadata": {},
   "source": [
    "#### Explain the shape (number of rows and columns) of `S` in terms of the AO basis set we chose."
   ]
  },
  {
   "cell_type": "markdown",
   "metadata": {},
   "source": [
    "Examine the contents of `S`."
   ]
  },
  {
   "cell_type": "code",
   "execution_count": 131,
   "metadata": {},
   "outputs": [
    {
     "name": "stdout",
     "output_type": "stream",
     "text": [
      "[[ 1.00000000e+00 -2.14062652e-01  1.94384152e-01 -9.09438117e-18\n",
      "   0.00000000e+00  0.00000000e+00 -2.33216945e-18  0.00000000e+00\n",
      "   0.00000000e+00  0.00000000e+00  0.00000000e+00  0.00000000e+00\n",
      "   0.00000000e+00  0.00000000e+00  3.45999929e-02  6.15289762e-02\n",
      "  -3.97443884e-02  0.00000000e+00  5.08704974e-02  3.45999929e-02\n",
      "   6.15289762e-02 -3.97443884e-02  0.00000000e+00 -5.08704974e-02]\n",
      " [-2.14062652e-01  1.00000000e+00  7.08607329e-01 -2.42737883e-17\n",
      "   0.00000000e+00  0.00000000e+00  1.97936403e-18  0.00000000e+00\n",
      "   0.00000000e+00  0.00000000e+00  0.00000000e+00  0.00000000e+00\n",
      "   0.00000000e+00  0.00000000e+00  1.96930552e-01  2.90859084e-01\n",
      "  -1.91271784e-01  0.00000000e+00  2.44816719e-01  1.96930552e-01\n",
      "   2.90859084e-01 -1.91271784e-01  0.00000000e+00 -2.44816719e-01]\n",
      " [ 1.94384152e-01  7.08607329e-01  1.00000000e+00  3.01517971e-17\n",
      "   0.00000000e+00  0.00000000e+00  2.90784214e-17  0.00000000e+00\n",
      "   0.00000000e+00  0.00000000e+00  0.00000000e+00  0.00000000e+00\n",
      "   0.00000000e+00  0.00000000e+00  4.07681908e-01  5.91588206e-01\n",
      "  -2.21492002e-01  0.00000000e+00  2.83496835e-01  4.07681908e-01\n",
      "   5.91588206e-01 -2.21492002e-01  0.00000000e+00 -2.83496835e-01]\n",
      " [-9.09438117e-18 -2.42737883e-17  3.01517971e-17  1.00000000e+00\n",
      "   0.00000000e+00  0.00000000e+00  5.01271483e-01  0.00000000e+00\n",
      "   0.00000000e+00 -6.68909130e-17  0.00000000e+00  0.00000000e+00\n",
      "   0.00000000e+00  0.00000000e+00  1.34668719e-01  6.69075612e-02\n",
      "  -5.63913501e-02  0.00000000e+00  2.29115551e-01  1.34668719e-01\n",
      "   6.69075612e-02 -5.63913501e-02  0.00000000e+00 -2.29115551e-01]\n",
      " [ 0.00000000e+00  0.00000000e+00  0.00000000e+00  0.00000000e+00\n",
      "   1.00000000e+00  0.00000000e+00  0.00000000e+00  5.01271483e-01\n",
      "   0.00000000e+00  0.00000000e+00 -5.79292299e-17  0.00000000e+00\n",
      "   0.00000000e+00  0.00000000e+00  0.00000000e+00  0.00000000e+00\n",
      "   0.00000000e+00  1.22613337e-01  0.00000000e+00  0.00000000e+00\n",
      "   0.00000000e+00  0.00000000e+00  1.22613337e-01  0.00000000e+00]\n",
      " [ 0.00000000e+00  0.00000000e+00  0.00000000e+00  0.00000000e+00\n",
      "   0.00000000e+00  1.00000000e+00  0.00000000e+00  0.00000000e+00\n",
      "   5.01271483e-01  0.00000000e+00  0.00000000e+00 -5.79292299e-17\n",
      "   0.00000000e+00  0.00000000e+00 -1.72368100e-01 -8.56377731e-02\n",
      "   2.29115551e-01  0.00000000e+00 -1.70641196e-01  1.72368100e-01\n",
      "   8.56377731e-02 -2.29115551e-01  0.00000000e+00 -1.70641196e-01]\n",
      " [-2.33216945e-18  1.97936403e-18  2.90784214e-17  5.01271483e-01\n",
      "   0.00000000e+00  0.00000000e+00  1.00000000e+00  0.00000000e+00\n",
      "   0.00000000e+00  0.00000000e+00  0.00000000e+00  0.00000000e+00\n",
      "   0.00000000e+00  0.00000000e+00  3.64163712e-01  2.53605562e-01\n",
      "   1.09898555e-01  0.00000000e+00  2.65988949e-01  3.64163712e-01\n",
      "   2.53605562e-01  1.09898555e-01  0.00000000e+00 -2.65988949e-01]\n",
      " [ 0.00000000e+00  0.00000000e+00  0.00000000e+00  0.00000000e+00\n",
      "   5.01271483e-01  0.00000000e+00  0.00000000e+00  1.00000000e+00\n",
      "   0.00000000e+00  0.00000000e+00  0.00000000e+00  0.00000000e+00\n",
      "   0.00000000e+00  0.00000000e+00  0.00000000e+00  0.00000000e+00\n",
      "   0.00000000e+00  3.17711897e-01  0.00000000e+00  0.00000000e+00\n",
      "   0.00000000e+00  0.00000000e+00  3.17711897e-01  0.00000000e+00]\n",
      " [ 0.00000000e+00  0.00000000e+00  0.00000000e+00  0.00000000e+00\n",
      "   0.00000000e+00  5.01271483e-01  0.00000000e+00  0.00000000e+00\n",
      "   1.00000000e+00  0.00000000e+00  0.00000000e+00  0.00000000e+00\n",
      "   0.00000000e+00  0.00000000e+00 -4.66108296e-01 -3.24600318e-01\n",
      "   2.65988949e-01  0.00000000e+00 -2.27384321e-02  4.66108296e-01\n",
      "   3.24600318e-01 -2.65988949e-01  0.00000000e+00 -2.27384321e-02]\n",
      " [ 0.00000000e+00  0.00000000e+00  0.00000000e+00 -6.68909130e-17\n",
      "   0.00000000e+00  0.00000000e+00  0.00000000e+00  0.00000000e+00\n",
      "   0.00000000e+00  1.00000000e+00  0.00000000e+00  0.00000000e+00\n",
      "   0.00000000e+00  0.00000000e+00  1.31965658e-02  1.94378740e-03\n",
      "   1.40508640e-01  0.00000000e+00  1.31475603e-01  1.31965658e-02\n",
      "   1.94378740e-03  1.40508640e-01  0.00000000e+00 -1.31475603e-01]\n",
      " [ 0.00000000e+00  0.00000000e+00  0.00000000e+00  0.00000000e+00\n",
      "  -5.79292299e-17  0.00000000e+00  0.00000000e+00  0.00000000e+00\n",
      "   0.00000000e+00  0.00000000e+00  1.00000000e+00  0.00000000e+00\n",
      "   0.00000000e+00  0.00000000e+00  0.00000000e+00  0.00000000e+00\n",
      "   0.00000000e+00  1.40428120e-01  0.00000000e+00  0.00000000e+00\n",
      "   0.00000000e+00  0.00000000e+00  1.40428120e-01  0.00000000e+00]\n",
      " [ 0.00000000e+00  0.00000000e+00  0.00000000e+00  0.00000000e+00\n",
      "   0.00000000e+00 -5.79292299e-17  0.00000000e+00  0.00000000e+00\n",
      "   0.00000000e+00  0.00000000e+00  0.00000000e+00  1.00000000e+00\n",
      "   0.00000000e+00  0.00000000e+00 -1.61746121e-01 -2.38243857e-02\n",
      "   8.55412229e-02  0.00000000e+00 -1.99116102e-01  1.61746121e-01\n",
      "   2.38243857e-02 -8.55412229e-02  0.00000000e+00 -1.99116102e-01]\n",
      " [ 0.00000000e+00  0.00000000e+00  0.00000000e+00  0.00000000e+00\n",
      "   0.00000000e+00  0.00000000e+00  0.00000000e+00  0.00000000e+00\n",
      "   0.00000000e+00  0.00000000e+00  0.00000000e+00  0.00000000e+00\n",
      "   1.00000000e+00  0.00000000e+00 -1.03512797e-01 -1.52469115e-02\n",
      "   1.69772111e-01  0.00000000e+00 -3.75585954e-02 -1.03512797e-01\n",
      "  -1.52469115e-02  1.69772111e-01  0.00000000e+00  3.75585954e-02]\n",
      " [ 0.00000000e+00  0.00000000e+00  0.00000000e+00  0.00000000e+00\n",
      "   0.00000000e+00  0.00000000e+00  0.00000000e+00  0.00000000e+00\n",
      "   0.00000000e+00  0.00000000e+00  0.00000000e+00  0.00000000e+00\n",
      "   0.00000000e+00  1.00000000e+00  0.00000000e+00  0.00000000e+00\n",
      "   0.00000000e+00 -1.79739798e-01  0.00000000e+00  0.00000000e+00\n",
      "   0.00000000e+00  0.00000000e+00  1.79739798e-01  0.00000000e+00]\n",
      " [ 3.45999929e-02  1.96930552e-01  4.07681908e-01  1.34668719e-01\n",
      "   0.00000000e+00 -1.72368100e-01  3.64163712e-01  0.00000000e+00\n",
      "  -4.66108296e-01  1.31965658e-02  0.00000000e+00 -1.61746121e-01\n",
      "  -1.03512797e-01  0.00000000e+00  1.00000000e+00  6.84860251e-01\n",
      "  -3.80042047e-18  0.00000000e+00  3.80042047e-18  6.63753228e-02\n",
      "   2.39868396e-01  1.55007734e-17  0.00000000e+00 -8.81158139e-02]\n",
      " [ 6.15289762e-02  2.90859084e-01  5.91588206e-01  6.69075612e-02\n",
      "   0.00000000e+00 -8.56377731e-02  2.53605562e-01  0.00000000e+00\n",
      "  -3.24600318e-01  1.94378740e-03  0.00000000e+00 -2.38243857e-02\n",
      "  -1.52469115e-02  0.00000000e+00  6.84860251e-01  1.00000000e+00\n",
      "   0.00000000e+00  0.00000000e+00  2.22505918e-16  2.39868396e-01\n",
      "   5.19601930e-01  0.00000000e+00  0.00000000e+00 -1.53731916e-01]\n",
      " [-3.97443884e-02 -1.91271784e-01 -2.21492002e-01 -5.63913501e-02\n",
      "   0.00000000e+00  2.29115551e-01  1.09898555e-01  0.00000000e+00\n",
      "   2.65988949e-01  1.40508640e-01  0.00000000e+00  8.55412229e-02\n",
      "   1.69772111e-01  0.00000000e+00 -3.80042047e-18  0.00000000e+00\n",
      "   1.00000000e+00  0.00000000e+00  0.00000000e+00 -2.53120874e-19\n",
      "   0.00000000e+00  2.02151688e-02  0.00000000e+00  0.00000000e+00]\n",
      " [ 0.00000000e+00  0.00000000e+00  0.00000000e+00  0.00000000e+00\n",
      "   1.22613337e-01  0.00000000e+00  0.00000000e+00  3.17711897e-01\n",
      "   0.00000000e+00  0.00000000e+00  1.40428120e-01  0.00000000e+00\n",
      "   0.00000000e+00 -1.79739798e-01  0.00000000e+00  0.00000000e+00\n",
      "   0.00000000e+00  1.00000000e+00  0.00000000e+00  0.00000000e+00\n",
      "   0.00000000e+00  0.00000000e+00  2.02151688e-02  0.00000000e+00]\n",
      " [ 5.08704974e-02  2.44816719e-01  2.83496835e-01  2.29115551e-01\n",
      "   0.00000000e+00 -1.70641196e-01  2.65988949e-01  0.00000000e+00\n",
      "  -2.27384321e-02  1.31475603e-01  0.00000000e+00 -1.99116102e-01\n",
      "  -3.75585954e-02  0.00000000e+00  3.80042047e-18  2.22505918e-16\n",
      "   0.00000000e+00  0.00000000e+00  1.00000000e+00  8.81158139e-02\n",
      "   1.53731916e-01  2.13813782e-17  0.00000000e+00 -1.37516598e-01]\n",
      " [ 3.45999929e-02  1.96930552e-01  4.07681908e-01  1.34668719e-01\n",
      "   0.00000000e+00  1.72368100e-01  3.64163712e-01  0.00000000e+00\n",
      "   4.66108296e-01  1.31965658e-02  0.00000000e+00  1.61746121e-01\n",
      "  -1.03512797e-01  0.00000000e+00  6.63753228e-02  2.39868396e-01\n",
      "  -2.53120874e-19  0.00000000e+00  8.81158139e-02  1.00000000e+00\n",
      "   6.84860251e-01 -3.80042047e-18  0.00000000e+00 -3.80042047e-18]\n",
      " [ 6.15289762e-02  2.90859084e-01  5.91588206e-01  6.69075612e-02\n",
      "   0.00000000e+00  8.56377731e-02  2.53605562e-01  0.00000000e+00\n",
      "   3.24600318e-01  1.94378740e-03  0.00000000e+00  2.38243857e-02\n",
      "  -1.52469115e-02  0.00000000e+00  2.39868396e-01  5.19601930e-01\n",
      "   0.00000000e+00  0.00000000e+00  1.53731916e-01  6.84860251e-01\n",
      "   1.00000000e+00  0.00000000e+00  0.00000000e+00 -2.22505918e-16]\n",
      " [-3.97443884e-02 -1.91271784e-01 -2.21492002e-01 -5.63913501e-02\n",
      "   0.00000000e+00 -2.29115551e-01  1.09898555e-01  0.00000000e+00\n",
      "  -2.65988949e-01  1.40508640e-01  0.00000000e+00 -8.55412229e-02\n",
      "   1.69772111e-01  0.00000000e+00  1.55007734e-17  0.00000000e+00\n",
      "   2.02151688e-02  0.00000000e+00  2.13813782e-17 -3.80042047e-18\n",
      "   0.00000000e+00  1.00000000e+00  0.00000000e+00  0.00000000e+00]\n",
      " [ 0.00000000e+00  0.00000000e+00  0.00000000e+00  0.00000000e+00\n",
      "   1.22613337e-01  0.00000000e+00  0.00000000e+00  3.17711897e-01\n",
      "   0.00000000e+00  0.00000000e+00  1.40428120e-01  0.00000000e+00\n",
      "   0.00000000e+00  1.79739798e-01  0.00000000e+00  0.00000000e+00\n",
      "   0.00000000e+00  2.02151688e-02  0.00000000e+00  0.00000000e+00\n",
      "   0.00000000e+00  0.00000000e+00  1.00000000e+00  0.00000000e+00]\n",
      " [-5.08704974e-02 -2.44816719e-01 -2.83496835e-01 -2.29115551e-01\n",
      "   0.00000000e+00 -1.70641196e-01 -2.65988949e-01  0.00000000e+00\n",
      "  -2.27384321e-02 -1.31475603e-01  0.00000000e+00 -1.99116102e-01\n",
      "   3.75585954e-02  0.00000000e+00 -8.81158139e-02 -1.53731916e-01\n",
      "   0.00000000e+00  0.00000000e+00 -1.37516598e-01 -3.80042047e-18\n",
      "  -2.22505918e-16  0.00000000e+00  0.00000000e+00  1.00000000e+00]]\n"
     ]
    }
   ],
   "source": [
    "print(S) #the full matrix is somewhat hard to read"
   ]
  },
  {
   "cell_type": "code",
   "execution_count": 138,
   "metadata": {},
   "outputs": [
    {
     "name": "stdout",
     "output_type": "stream",
     "text": [
      "Here is a peak at the first 4 x 4 elements of the matrix:\n",
      "[[ 1.00000000e+00 -2.14062652e-01  1.94384152e-01 -9.09438117e-18]\n",
      " [-2.14062652e-01  1.00000000e+00  7.08607329e-01 -2.42737883e-17]\n",
      " [ 1.94384152e-01  7.08607329e-01  1.00000000e+00  3.01517971e-17]\n",
      " [-9.09438117e-18 -2.42737883e-17  3.01517971e-17  1.00000000e+00]]\n"
     ]
    }
   ],
   "source": [
    "#Look at the first few elements\n",
    "def peak(S,nrows=4,ncols=4):\n",
    "    print(F'Here is a peak at the first {nrows} x {ncols} elements of the matrix:\\n{S[:nrows,:ncols]}')\n",
    "    \n",
    "peak(S)"
   ]
  },
  {
   "cell_type": "markdown",
   "metadata": {},
   "source": [
    "#### List your observations about `S` in the AO basis.\n",
    "#### What do the diagonal elements of `S` indicate?\n",
    "#### What do the off-diagonal elements of `S` indicate?\n",
    "#### Does the Gaussian atomic orbital basis set form an orthonormal basis?"
   ]
  },
  {
   "cell_type": "markdown",
   "metadata": {},
   "source": [
    "We can perform this test programmatically as well, with a few python tricks. Construct an array of the same size as the overlap array (`S`) that has 1's along the diagonal and 0's everywhere else. Then compare that array to the `S` array to determine if the AO basis is orthonormal."
   ]
  },
  {
   "cell_type": "code",
   "execution_count": 144,
   "metadata": {},
   "outputs": [
    {
     "name": "stdout",
     "output_type": "stream",
     "text": [
      "Q:(T/F) The AO basis is orthonormal? A: False\n"
     ]
    },
    {
     "data": {
      "text/plain": [
       "False"
      ]
     },
     "execution_count": 144,
     "metadata": {},
     "output_type": "execute_result"
    }
   ],
   "source": [
    "## example of testing for orthonormality\n",
    "\n",
    "#define a function\n",
    "def isBasisOrthonormal(S):\n",
    "    #get the number of rows of S\n",
    "    size_S = S.shape[0] \n",
    "    \n",
    "    #construct an identity matrix, I -- \"eye\", get it?!? Ha ha! Math is so funny!\n",
    "    identity_matrix = np.eye(size_S) \n",
    "\n",
    "    #are all elements of S numerically close to the identity matrix? \n",
    "    #We won't test for equality because there can be very small numerical differences that we don't care about\n",
    "    orthonormal_check = np.allclose(S, identity_matrix)\n",
    "\n",
    "    print(F'Q:(T/F) The AO basis is orthonormal? A: {orthonormal_check}')\n",
    "    return orthonormal_check\n",
    "\n",
    "#use the function\n",
    "isBasisOrthonormal(S)"
   ]
  },
  {
   "cell_type": "markdown",
   "metadata": {},
   "source": [
    "#### Does the result agree with what you determined above?"
   ]
  },
  {
   "cell_type": "markdown",
   "metadata": {},
   "source": [
    "### An orthogonalization matrix\n",
    "Since our AO basis set was not orthonormal, we seek to construct an orthogonalization matrix, `A` such that ${\\bf A}^{\\dagger}{\\bf SA} = {\\bf 1}$. \n",
    "\n",
    "**Motivation:** If ${\\bf A}$ and ${\\bf S}$ were real numbers $a$ and $s$ (not matrices), this would be simple to solve. First, $a^\\dagger=a$ because a real number is the same as its hermitian transpose. By simple algebra we can solve for a,\n",
    "\n",
    "$$a^\\dagger s a=1$$\n",
    "$$a^\\dagger s a=a s a=a^2s=1$$\n",
    "$$\\Rightarrow{}a=s^{-1/2}$$ \n",
    "\n",
    "In linear algebra (with matrices instead of numbers) this is more complicated, but numpy and the mints class can take care of the details for us! Leaving out the details, we will calculate\n",
    "\n",
    "$${\\bf A}={\\bf S}^{-1/2}$$.\n",
    "\n",
    "The `A` returned by `mints` is an object, so in a final step we will cast it to a numpy array."
   ]
  },
  {
   "cell_type": "code",
   "execution_count": 141,
   "metadata": {},
   "outputs": [
    {
     "name": "stdout",
     "output_type": "stream",
     "text": [
      "Here is a peak at the first 4 x 4 elements of the matrix:\n",
      "[[ 1.14013138  0.37241884 -0.49486894  0.00665229]\n",
      " [ 0.37241884  1.59319502 -1.00179637  0.02740715]\n",
      " [-0.49486894 -1.00179637  3.01429626  0.0767127 ]\n",
      " [ 0.00665229  0.02740715  0.0767127   1.15450717]]\n"
     ]
    }
   ],
   "source": [
    "# ==> Construct AO orthogonalization matrix A <==\n",
    "\n",
    "# at this step A is the same as S\n",
    "A = mints.ao_overlap() \n",
    "\n",
    "# calculate the matrix power -1/2 to a certain numerical precision\n",
    "A.power(-0.5, 1.e-16) #A is replaced / updated equivalent to A = A^(-1/2)\n",
    "\n",
    "# recast A as a normal array\n",
    "A = np.asarray(A)\n",
    "\n",
    "peak(A)\n"
   ]
  },
  {
   "cell_type": "markdown",
   "metadata": {},
   "source": [
    "#### What do you observe about the elements of A? Is the matrix real or complex? Is the matrix symmetric or not?"
   ]
  },
  {
   "cell_type": "markdown",
   "metadata": {},
   "source": [
    "**Linear algebra interlude:** Why does the equation above have this structure? The product of a matrix, $M$, and a vector, $v$, produces a new vector, $b$.\n",
    "\n",
    "$$Mv=b$$\n",
    "\n",
    "Thinking of the vector $v$ as three elements\n",
    "\n",
    "$$v=\\left(\\begin{array}{c}v_1\\\\v_2\\\\v_3\\end{array}\\right)$$\n",
    "\n",
    "matrix $M$ as being composed of three columns\n",
    "\n",
    "$$M = \\left(\\begin{array}{ccc}|& |&|\\\\ m_1 &m_2&m_3\\\\|&|&|\\end{array}\\right),$$\n",
    "\n",
    "we have\n",
    "\n",
    "$$ Mv=\\left(\\begin{array}{ccc}|& |&|\\\\ m_1 &m_2&m_3\\\\|&|&|\\end{array}\\right)\\left(\\begin{array}{c}v_1\\\\v_2\\\\v_3\\end{array}\\right)$$\n",
    "\n",
    "$$ =v_1\\left(\\begin{array}{c}|\\\\m_1\\\\|\\end{array}\\right)+v_2\\left(\\begin{array}{c}|\\\\m_2\\\\|\\end{array}\\right)+v_3\\left(\\begin{array}{c}|\\\\m_3\\\\|\\end{array}\\right).$$\n",
    "\n",
    "In this view, the elements of the vector $v$ ($v_1$, $v_2$, $v_3$) make linear combinations of the columns of $M$.\n",
    "\n",
    "We can use this perspective for our overlap matrix. Let's propose a matrix made with our current (non-orthonormal) basis vectors as columns,\n",
    "\n",
    "$$ B = \\left(\\begin{array}{ccc}|& |&|\\\\ \\phi_1 &\\phi_2&\\phi_3\\\\|&|&|\\end{array}\\right),$$\n",
    "\n",
    "Multiplying the rows of $B^\\dagger$ by the columns of $B$ (normal matrix multiplication) produces a matrix of the overlap integrals we defined to be the matrix $S$.\n",
    "\n",
    "$$B^\\dagger B =\\left(\\begin{array}{ccc}-& \\phi_1^*&-\\\\-& \\phi_2^* &-\\\\-&\\phi_3&-\\end{array}\\right) \\left(\\begin{array}{ccc}|& |&|\\\\ \\phi_1 &\\phi_2&\\phi_3\\\\|&|&|\\end{array}\\right)\\equiv S.$$\n",
    "\n",
    "Our basis set $B$ is not orthonormal, so we want to take linear combinations of its columns to make a new basis set, $B'$, that is orthonormal. We define a new matrix, $A$, in terms of that transformation,\n",
    "\n",
    "$$B' = BA$$\n",
    "\n",
    "The new overlap matrix will be\n",
    "\n",
    "$$ S' = B'^\\dagger B,$$\n",
    "$$ = (BA)^\\dagger (BA),$$\n",
    "$$= A^\\dagger B^\\dagger BA,$$\n",
    "$$= A^\\dagger S A.$$\n",
    "\n",
    "The matrix $A$ makes the proper linear combination of the columns of $B$ and $A^\\dagger$ makes the linear combinations of the rows of $B^\\dagger$. This is a very common structure of transformation matrices.\n",
    "\n",
    "The last step is to determine what matrix $A$ would solve\n",
    "\n",
    "$$A^\\dagger SA={\\bf1}$$\n",
    "\n",
    "Because $S$ is a real, invertible, symmetric matrix (based on our choice of a complete basis $B$),\n",
    "\n",
    "$$S=S^\\dagger$$\n",
    "and, therefore,\n",
    "$$A=A^\\dagger.$$\n",
    "We rearrange $A^\\dagger SA={\\bf1}$ by multiplying on both sides of the equals sign with $S^{-1}A^{-1}$ from the left and $A$ from the right to obtain\n",
    "$$(S^{-1}A^{-1})ASA(A) = (S^{-1}A^{-1}){\\bf 1}(A)$$\n",
    "$$=S^{-1}SA^2=S^{-1}$$\n",
    "$$A^2=S^{-1}$$\n",
    "and, therefore,\n",
    "$$A=S^{-1/2},$$\n",
    "where the square root of a matrix can be understood by diagonalizing the matrix. \n",
    "\n",
    "Given that $A$ is real and symmetric, our transformation becomes, simply\n",
    "\n",
    "$$S' = A S A$$"
   ]
  },
  {
   "cell_type": "markdown",
   "metadata": {},
   "source": [
    "Use the orthogonalization matrix `A` to transform the overlap matrix, `S`. Check the transformed overlap matrix to make sure it represents an orthonormal basis."
   ]
  },
  {
   "cell_type": "code",
   "execution_count": 145,
   "metadata": {},
   "outputs": [
    {
     "name": "stdout",
     "output_type": "stream",
     "text": [
      "Q:(T/F) The AO basis is orthonormal? A: True\n"
     ]
    },
    {
     "data": {
      "text/plain": [
       "True"
      ]
     },
     "execution_count": 145,
     "metadata": {},
     "output_type": "execute_result"
    }
   ],
   "source": [
    "\n",
    "# Here is an example of transforming a matrix through multiplication S' = A S A\n",
    "S_p = A.dot(S).dot(A) \n",
    "\n",
    "isBasisOrthonormal(S_p)\n"
   ]
  },
  {
   "cell_type": "markdown",
   "metadata": {},
   "source": [
    "#### The product A S A does not take the complex conjugate transpose of A. What conditions (properties of A) make that ok?"
   ]
  },
  {
   "cell_type": "markdown",
   "metadata": {},
   "source": [
    "## New section not sure yet what to call it\n",
    "\n",
    "Need to do:\n",
    "- define H, T, V, F, I and density D\n",
    "- guiding questions on transforming F\n",
    "- guiding questions on rotating coefficients back like above (check if order matters -- inverse??)\n",
    "\n",
    "Now that our basis set checks out, we can build the electron-repulsion integral (ERI) tensor, which calculates the electron repulsion between the atomic orbital wavefunctions, and the core Hamiltonian."
   ]
  },
  {
   "cell_type": "code",
   "execution_count": null,
   "metadata": {},
   "outputs": [],
   "source": [
    "# products of slater dets\n",
    "#(a(1)b(2)-b(1)a(2)) * (c(1)d(2)-d(1)c(2))=a(1)b(2)c(1)d(2) + b(1)a(2)d(1)c(2) -b(1)a(2)c(1)d(2) - a(1)b(2)d(1)c(2)\n",
    "#uh I need to work on this!"
   ]
  },
  {
   "cell_type": "code",
   "execution_count": 9,
   "metadata": {},
   "outputs": [],
   "source": [
    "# Build electron repulsion integral (ERI) Tensor\n",
    "I = np.asarray(mints.ao_eri())\n",
    "\n",
    "# Build core Hamiltonian\n",
    "T = np.asarray(mints.ao_kinetic())\n",
    "V = np.asarray(mints.ao_potential())\n",
    "H = T + V"
   ]
  },
  {
   "cell_type": "markdown",
   "metadata": {},
   "source": [
    "Now we would have to recompute the ERI and all the core Hamiltonian matrices in the new orthogonal basis **OR** we can just calculate orbital coefficient matrix in the transformed basis by diagonalizing the transformed Fock matrix, and then just go backwards and get the cofficients in the original AO basis.\n",
    "\n",
    "We see here the central premise of SCF:  To get the Fock matrix, we need the coefficient matrix, but to compute the coefficient matrix we need the Fock matrix.  So we start with a guess for the Fock matrix, which is the core Hamiltonian matrix that we already calculated.\n",
    "\n",
    "In the cell below, use the core Hamiltonian matrix as your initial guess for the Fock matrix. Transform it with the same A matrix you used above.  Look up the `linalg.eigh` function in the numpy documentation, and use it to diagonalize the transformed Fock matrix."
   ]
  },
  {
   "cell_type": "code",
   "execution_count": 13,
   "metadata": {},
   "outputs": [],
   "source": [
    "# This is the code we would expect the student to write\n",
    "\n",
    "# Transformed Fock matrix\n",
    "F_p = A.dot(H).dot(A)\n",
    "\n",
    "# Diagonalize F_p for eigenvalues & eigenvectors with NumPy\n",
    "e, C_p = np.linalg.eigh(F_p)"
   ]
  },
  {
   "cell_type": "markdown",
   "metadata": {},
   "source": [
    "Now that we have the coefficents in the transformed basis, we need to go back and get the coefficients in the original AO basis."
   ]
  },
  {
   "cell_type": "code",
   "execution_count": 14,
   "metadata": {},
   "outputs": [],
   "source": [
    "# Transform C_p back into AO basis\n",
    "C = A.dot(C_p)"
   ]
  },
  {
   "cell_type": "markdown",
   "metadata": {},
   "source": [
    "Next, we are going to construct the density matrix from the occupied orbitals.  To get a matrix of just the occupied orbitals, use the coefficient matrix in the original AO basis, and take a slice to include all rows and just the columns that represent the occupied orbitals."
   ]
  },
  {
   "cell_type": "code",
   "execution_count": 15,
   "metadata": {},
   "outputs": [],
   "source": [
    "# Grab occupied orbitals\n",
    "C_occ = C[:, :ndocc]\n",
    "print(F'The size of C_occ is {C.size}')\n"
   ]
  },
  {
   "cell_type": "markdown",
   "metadata": {},
   "source": [
    "To build the density matrix, we will use the numpy function `einsum`, one of the crown jewels of the numpy library.  In short, `einsum` lets you perform various combinations of multiplying, summing, and transposing matrices very efficiently.  A good tutorial about `einsum` can be found at http://ajcr.net/Basic-guide-to-einsum/.  To specify the operations you want to do, you use the **Ein**stein **Sum**mation convention."
   ]
  },
  {
   "cell_type": "code",
   "execution_count": 16,
   "metadata": {},
   "outputs": [],
   "source": [
    "# Build density matrix from occupied orbitals\n",
    "D = np.einsum('pi,qi->pq', C_occ, C_occ)\n",
    "print(F'The size of D is {D.size}')"
   ]
  },
  {
   "cell_type": "markdown",
   "metadata": {},
   "source": [
    "The Hartree Fock procedure is iterative (more on this later).  We continue recalculating the energy until it converges to the level we specify.  The varible `E_conv` is where we set this level of convergence.  We also set a maximum number of iterations so that if our calculation does not converge, it eventually stops and lets us know that it did not converge.  "
   ]
  },
  {
   "cell_type": "code",
   "execution_count": 5,
   "metadata": {},
   "outputs": [],
   "source": [
    "# ==> Set default program options <==\n",
    "# Maximum SCF iterations\n",
    "MAXITER = 40\n",
    "# Energy convergence criterion\n",
    "E_conv = 1.0e-6"
   ]
  },
  {
   "cell_type": "markdown",
   "metadata": {},
   "source": [
    "Now we will use the density matrix to build the Fock matrix.  The code block below sets up the skelton of the Hartree-Fock procedure.  The basic steps are:\n",
    "1. Calculate the Fock Matrix from the density matrix and the nuclear repulsion energy (which we only need to calculate once at the beginning because we are invoking the the Born-Oppenheimer approximation thus making the nucleus stationary.  \n",
    "2. Calculate the energy from the Fock matrix.\n",
    "3. Check and see if the energy has converged by comparing the current energy to the previous energy and seeing if it is within the convergence threshold.  (You will write this section.)\n",
    "4. If the energy has not converged, transform the Fock matrix, and diagonalize the transformed Fock matrix to get the energy and MO coefficients.  Then transform back to the original AO basis, pull the occupied orbitals, and reconstruct the density matrix.  (You will write this section.)\n",
    "\n",
    "Follow the prompts below to complete your HF code."
   ]
  },
  {
   "cell_type": "code",
   "execution_count": 17,
   "metadata": {
    "scrolled": true
   },
   "outputs": [
    {
     "name": "stdout",
     "output_type": "stream",
     "text": [
      "==> Starting SCF Iterations <==\n",
      "\n",
      "SCF Iteration 1: Energy = -68.98003273 dE = -68.98003273\n",
      "SCF Iteration 2: Energy = -69.64725444 dE = -0.66722171\n",
      "SCF Iteration 3: Energy = -72.84030311 dE = -3.19304867\n",
      "SCF Iteration 4: Energy = -72.89488392 dE = -0.05458082\n",
      "SCF Iteration 5: Energy = -74.12078067 dE = -1.22589674\n",
      "SCF Iteration 6: Energy = -74.86718198 dE = -0.74640131\n",
      "SCF Iteration 7: Energy = -75.41490880 dE = -0.54772683\n",
      "SCF Iteration 8: Energy = -75.70767222 dE = -0.29276342\n",
      "SCF Iteration 9: Energy = -75.86052422 dE = -0.15285199\n",
      "SCF Iteration 10: Energy = -75.93143853 dE = -0.07091431\n",
      "SCF Iteration 11: Energy = -75.96402440 dE = -0.03258587\n",
      "SCF Iteration 12: Energy = -75.97842921 dE = -0.01440481\n",
      "SCF Iteration 13: Energy = -75.98481700 dE = -0.00638779\n",
      "SCF Iteration 14: Energy = -75.98761284 dE = -0.00279584\n",
      "SCF Iteration 15: Energy = -75.98884089 dE = -0.00122806\n",
      "SCF Iteration 16: Energy = -75.98937775 dE = -0.00053686\n",
      "SCF Iteration 17: Energy = -75.98961294 dE = -0.00023518\n",
      "SCF Iteration 18: Energy = -75.98971577 dE = -0.00010284\n",
      "SCF Iteration 19: Energy = -75.98976079 dE = -0.00004501\n",
      "SCF Iteration 20: Energy = -75.98978047 dE = -0.00001969\n",
      "SCF Iteration 21: Energy = -75.98978909 dE = -0.00000861\n",
      "SCF Iteration 22: Energy = -75.98979286 dE = -0.00000377\n",
      "SCF Iteration 23: Energy = -75.98979450 dE = -0.00000165\n",
      "SCF Iteration 24: Energy = -75.98979523 dE = -0.00000072\n",
      "\n",
      "SCF converged.\n",
      "Final RHF Energy: -75.989795 [Eh]\n"
     ]
    }
   ],
   "source": [
    "# ==> Nuclear Repulsion Energy <==\n",
    "E_nuc = mol.nuclear_repulsion_energy()\n",
    "\n",
    "# ==> SCF Iterations <==\n",
    "# Pre-iteration energy declarations\n",
    "SCF_E = 0.0\n",
    "E_old = 0.0\n",
    "\n",
    "print('==> Starting SCF Iterations <==\\n')\n",
    "\n",
    "# Begin Iterations\n",
    "for scf_iter in range(1, MAXITER + 1):\n",
    "    # Build Fock matrix\n",
    "    J = np.einsum('pqrs,rs->pq', I, D)\n",
    "    K = np.einsum('prqs,rs->pq', I, D)\n",
    "    F = H + 2*J - K\n",
    "    \n",
    "    # Compute RHF energy; this use of einsum is matrix multiplication\n",
    "    SCF_E = np.einsum('pq,pq->', (H + F), D) + E_nuc\n",
    "    print(F'SCF Iteration {scf_iter}: Energy = {SCF_E:.8f} dE = {SCF_E - E_old:.8f}')\n",
    "    \n",
    "    # Check to see if the energy is converged.  If it is break out of the loop.\n",
    "    # If it is not, set the current energy E_old\n",
    "    \n",
    "    ## This is the code we would expect the student to write\n",
    "    if (abs(SCF_E - E_old) < E_conv):\n",
    "        break\n",
    "    E_old = SCF_E\n",
    "    \n",
    "    # Compute new orbital guess.  Remember the steps:\n",
    "    # 1. Transform the Fock matrix\n",
    "    # 2. Diagonalize the Fock matrix.\n",
    "    # 3. Transform the coefficient matrix back to original AO basis set\n",
    "    # 4. Take a slice of the coefficient matrix of just the occupied orbitals.\n",
    "    # 5. Use the occupied orbitals to construct the density\n",
    "    \n",
    "    ## This is the code we would expect the student to write\n",
    "    F_p =  A.dot(F).dot(A)\n",
    "    e, C_p = np.linalg.eigh(F_p)\n",
    "    C = A.dot(C_p)\n",
    "    C_occ = C[:, :ndocc]\n",
    "    D = np.einsum('pi,qi->pq', C_occ, C_occ)\n",
    "    \n",
    "    # MAXITER exceeded?\n",
    "    if (scf_iter == MAXITER):\n",
    "        psi4.core.clean()\n",
    "        raise Exception(\"Maximum number of SCF iterations exceeded.\")\n",
    "\n",
    "# Post iterations\n",
    "print('\\nSCF converged.')\n",
    "print(F'Final RHF Energy: {SCF_E:.6f} [Eh]')"
   ]
  },
  {
   "cell_type": "markdown",
   "metadata": {},
   "source": [
    "Compare your results to Psi4 by computing the energy using `psi4.energy()` in the cell below.  "
   ]
  },
  {
   "cell_type": "code",
   "execution_count": 18,
   "metadata": {
    "scrolled": true
   },
   "outputs": [
    {
     "name": "stdout",
     "output_type": "stream",
     "text": [
      "    My SCF Procedure..................................................PASSED\n"
     ]
    }
   ],
   "source": [
    "# ==> Compare our SCF to Psi4 <==\n",
    "# Call psi4.energy() to compute the SCF energy\n",
    "SCF_E_psi = psi4.energy('SCF')\n",
    "\n",
    "# Compare our energy value to what Psi4 computes\n",
    "assert psi4.compare_values(SCF_E_psi, SCF_E, 6, 'My SCF Procedure')"
   ]
  },
  {
   "cell_type": "markdown",
   "metadata": {},
   "source": [
    "## Using Hartree-Fock to Justify Molecular Structure\n",
    "\n",
    "Why is CO$_2$ linear? Why is H$_2$O bent? Why is CH$_4$ tetrahedral? Why is FeF$_6$ octahedral? In general\n",
    "chemistry, we used valence shell electron pair repulsion (VSEPR) theory to justify molecular structures\n",
    "by invoking a _repulsion_ between both bonding and non-bonding pairs of electrons.  The reality of molecular\n",
    "structure is more complicated, however.\n",
    "\n",
    "In this section of the lab, we will use the same Hartree-Fock method that we implemented above to justify the\n",
    "bent structure of water by computing the electronic energy of H$_2$O at a variety of bond angles.  \n"
   ]
  },
  {
   "cell_type": "code",
   "execution_count": 19,
   "metadata": {},
   "outputs": [
    {
     "data": {
      "image/png": "[encoded data removed]",
      "text/plain": [
       "<Figure size 432x288 with 1 Axes>"
      ]
     },
     "metadata": {
      "needs_background": "light"
     },
     "output_type": "display_data"
    }
   ],
   "source": [
    "# ==> Scanning a Bond Angle: Flexible Water <==\n",
    "# Import a library to visualize energy profile\n",
    "import matplotlib.pyplot as plt\n",
    "%matplotlib inline\n",
    "\n",
    "# Define flexible water molecule using Z-matrix\n",
    "flexible_water = \"\"\"\n",
    "O\n",
    "H 1 0.96\n",
    "H 1 0.96 2 {}\n",
    "\"\"\"\n",
    "\n",
    "# Scan over bond angle range between 90 & 180, in 5 degree increments\n",
    "scan = {}\n",
    "for angle in range(90, 181, 5):\n",
    "    # Make molecule\n",
    "    mol = psi4.geometry(flexible_water.format(angle))\n",
    "    # Call Psi4\n",
    "    e = psi4.energy('scf/cc-pvdz', molecule=mol)\n",
    "    # Save energy in dictionary\n",
    "    scan[angle] = e\n",
    "    \n",
    "# Visualize energy profile\n",
    "plt.plot(scan.keys(), scan.values(), 'ro-')\n",
    "plt.xlabel('H-O-H Bond Angle ($^{\\circ}$)')\n",
    "plt.ylabel('Molecular Energy ($E_h$)')\n",
    "plt.show()"
   ]
  },
  {
   "cell_type": "markdown",
   "metadata": {},
   "source": [
    "Using the energy profile we generated above, justify the experimentally measured water bond angle of 104.5$^{\\circ}$ in the cell below."
   ]
  },
  {
   "cell_type": "markdown",
   "metadata": {},
   "source": [
    "#### Student Answer Box\n",
    "\n",
    "Cuz bond angle of 104.5 has the lowest electronic energy, yo!"
   ]
  },
  {
   "cell_type": "code",
   "execution_count": null,
   "metadata": {},
   "outputs": [],
   "source": []
  }
 ],
 "metadata": {
  "kernelspec": {
   "display_name": "Python 3",
   "language": "python",
   "name": "python3"
  },
  "language_info": {
   "codemirror_mode": {
    "name": "ipython",
    "version": 3
   },
   "file_extension": ".py",
   "mimetype": "text/x-python",
   "name": "python",
   "nbconvert_exporter": "python",
   "pygments_lexer": "ipython3",
   "version": "3.7.7"
  },
  "latex_envs": {
   "LaTeX_envs_menu_present": true,
   "autoclose": false,
   "autocomplete": true,
   "bibliofile": "biblio.bib",
   "cite_by": "apalike",
   "current_citInitial": 1,
   "eqLabelWithNumbers": true,
   "eqNumInitial": 1,
   "hotkeys": {
    "equation": "Ctrl-E",
    "itemize": "Ctrl-I"
   },
   "labels_anchors": false,
   "latex_user_defs": false,
   "report_style_numbering": true,
   "user_envs_cfg": true
  }
 },
 "nbformat": 4,
 "nbformat_minor": 2
}
