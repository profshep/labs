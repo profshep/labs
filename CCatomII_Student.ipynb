{
 "cells": [
  {
   "cell_type": "markdown",
   "metadata": {},
   "source": [
    "## Lab 7 Computational Chemistry - Atoms II"
   ]
  },
  {
   "cell_type": "markdown",
   "metadata": {},
   "source": [
    "### <font color=green>IV. Atomic units</font>"
   ]
  },
  {
   "cell_type": "markdown",
   "metadata": {},
   "source": [
    "In electronic structure calculations it is convenient to work in the atomic unit (a.u.) system, which is defined by setting $m_e=e=\\hbar=1$. From this follows related quantities, as shown in the following table."
   ]
  },
  {
   "cell_type": "markdown",
   "metadata": {},
   "source": [
    "| Symbol | Quantity | Value in a.u. | Value in SI units\n",
    "|---|---|---|---|\n",
    "| $e$ | electron charge| 1 |$1.602\\times 10^{-19}$ C |\n",
    "| $m_e$ | electron mass| 1 |$9.110\\times 10^{-31}$ kg |\n",
    "| $\\hbar$ | angular momentum| 1 |$1.055\\times 10^{-34}$ J s |\n",
    "| $a_0$ | Bohr radius (atomic distance unit)| 1 |$5.292\\times 10^{-11}$ m |\n",
    "| $E$ | Hartree energy (atomic energy unit)| 1 |$4.360\\times 10^{-18}$ J |\n",
    "| $4\\pi\\epsilon_0$ | vacuum permittivity| 1 |$1.113\\times 10^{-10}$ C$^2$/J m |"
   ]
  },
  {
   "cell_type": "markdown",
   "metadata": {},
   "source": [
    "#### 1) Write the electronic Hamiltonian for helium atom in atomic units. (Recall F.12 Model 1) "
   ]
  },
  {
   "cell_type": "markdown",
   "metadata": {},
   "source": [
    "### <font color=green>V. Hartree Fock Method</font>"
   ]
  },
  {
   "cell_type": "markdown",
   "metadata": {},
   "source": [
    "The Hartree Fock method assumes that the multielectron wavefunction is a product of one-electron wavefunctions, e.g., <br><br>\n",
    "<center>$\\psi(r_1,r_2)=\\phi(r_1)\\phi(r_2)\\qquad$ (1)"
   ]
  },
  {
   "cell_type": "markdown",
   "metadata": {},
   "source": [
    "In order to account for the interelectronic repulsive force, an effective potential is introduced that represents the coulombic repulsion in an averaged way.  For example an effective “field” felt by electron 1, is defined in terms of all possible locations of electron 2, <br><br>\n",
    "<center>$V_1^{\\text{eff}}(r_1)=\\int_0^{\\infty}\\phi^*(r_2)\\frac{1}{r_{12}}\\phi(r_2)dr_2\\qquad$ (2)"
   ]
  },
  {
   "cell_type": "markdown",
   "metadata": {},
   "source": [
    "Thus, a one-electron Hamiltonian operator can be defined as: <br><br>\n",
    "<center>$H_1^{\\text{eff}}(r_1)=-\\frac{1}{2}\\nabla_1^2-\\frac{2}{r_1} + V_1^{\\text{eff}}(r_1)\\qquad$ (3)"
   ]
  },
  {
   "cell_type": "markdown",
   "metadata": {},
   "source": [
    "Note: there is a similar form of equations 2 & 3 for electron 2.  "
   ]
  },
  {
   "cell_type": "markdown",
   "metadata": {},
   "source": [
    "#### 2)\tWrite an expression similar to Equation 2 for electron 2 and describe the meaning of this equation."
   ]
  },
  {
   "cell_type": "markdown",
   "metadata": {},
   "source": [
    "#### 3) Write an expression for the effective Hamiltonian for electron 2 and describe the type of energy associateed with each term. "
   ]
  },
  {
   "cell_type": "markdown",
   "metadata": {},
   "source": [
    "#### 4)\tWrite an expression for the Variational energy for electron 1 based on Equation 3. (Recall F.12 Model 3) "
   ]
  },
  {
   "cell_type": "markdown",
   "metadata": {},
   "source": [
    "#### 5) Specifically describe all that is obtained by solving the expression in Question 4."
   ]
  },
  {
   "cell_type": "markdown",
   "metadata": {},
   "source": [
    "#### 6) In order to obtain this solution for electron 1, what must be known first?  "
   ]
  },
  {
   "cell_type": "markdown",
   "metadata": {},
   "source": [
    "#### 7)  How are the trial wavefunctions for electron 2 obtained and what most be known first?  "
   ]
  },
  {
   "cell_type": "markdown",
   "metadata": {},
   "source": [
    "#### 8) Assuming you were provided an initial “guess” for the form of $\\phi(r_2)$, outline a procedure to obtain the Hartree-Fock “solution.”  "
   ]
  },
  {
   "cell_type": "markdown",
   "metadata": {},
   "source": [
    "#### 9) Explain why a single iteration of this procedure may not provide the \"best\" Hartree-Fock solution."
   ]
  },
  {
   "cell_type": "markdown",
   "metadata": {},
   "source": [
    "#### 10)\tPropose how you would decide when the \"best\" Hartree-Fock solution is obtained? "
   ]
  },
  {
   "cell_type": "markdown",
   "metadata": {},
   "source": [
    "### <font color=green>VI. Correlation Energy </font>"
   ]
  },
  {
   "cell_type": "markdown",
   "metadata": {},
   "source": [
    "At the Hartree Fock level of theory, each electron is assumed to be independent of each other or interacting only through an average potential field of all the other electrons. In essence, it is a mean-field approach that neglects individual electron-electron interactions or \"electron correlation\". Thus, we define the difference between the Hartree-Fock energy and the exact energy as the corrlelation energy, <br>\n",
    "<center>$E_{\\text{corr}}= E_{\\text{exact}}-E_{\\text{HF}}\\qquad$ (4)"
   ]
  },
  {
   "cell_type": "markdown",
   "metadata": {},
   "source": [
    "#### 11) According to your calcations in part III, identify the best result to assume for $E_{\\text{HF}}$ and determine the correlation energy for boron. $(E_\\text{exact}= -24.608 \\text{ hartrees})$ "
   ]
  },
  {
   "cell_type": "markdown",
   "metadata": {},
   "source": [
    "#### 12) Use the code below to determine the correlation energy  of Helium $(E_\\text{exact}= -2.9033 \\text{ hartrees})$ and compare the results to Boron. Are the results consistent with the atom you expect to have the larger $E_{\\text{corr}}$? Explain. "
   ]
  },
  {
   "cell_type": "code",
   "execution_count": null,
   "metadata": {},
   "outputs": [],
   "source": [
    "import psi4"
   ]
  },
  {
   "cell_type": "code",
   "execution_count": null,
   "metadata": {},
   "outputs": [],
   "source": [
    "basis_set = 'cc-pVTZ' # Change for different Basis Set\n",
    "\n",
    "He = psi4.geometry(\"\"\"\n",
    "0 1\n",
    "He\n",
    "\"\"\")\n",
    "\n",
    "psi4.set_options({'reference': 'uhf','basis': basis_set})\n",
    "e = psi4.energy('hf')\n",
    "\n",
    "print(\"energy =\",e)\n",
    "psi4.core.clean()"
   ]
  },
  {
   "cell_type": "markdown",
   "metadata": {},
   "source": [
    "### <font color=green>VII. Perturbation Theory</font>"
   ]
  },
  {
   "cell_type": "markdown",
   "metadata": {},
   "source": [
    "Another common approximate approach to solving the Schrodinger equation is to express the system that is not solvable in terms of another system for which a solution is known.  Using perturbation theory, we write the Hamiltonian operator in the form\n",
    "<br>\n",
    "<center>$H=H^{(0)}+H^{(1)}\\qquad$ (5)"
   ]
  },
  {
   "cell_type": "markdown",
   "metadata": {},
   "source": [
    "where <br>\n",
    "<center>$H^{(0)}\\psi^{(0)}=E^{(0)}\\psi^{(0)}\\qquad$ (6)"
   ]
  },
  {
   "cell_type": "markdown",
   "metadata": {},
   "source": [
    "is the Schrödinger equation that can be solved exactly. We call the first term in Eq. 5 the unperturbed Hamiltonian operator and the second term the perturbation."
   ]
  },
  {
   "cell_type": "markdown",
   "metadata": {},
   "source": [
    "#### 13) Identify a Hamiltonian (in atomic units) that can be solved exactly $\\text{H}^{(0)}$ for helium. What is the corresponding value of energy $\\text{E}^{(0)}$ (in atomic units)?"
   ]
  },
  {
   "cell_type": "markdown",
   "metadata": {},
   "source": [
    "#### 14) Identify $H^{(1)}$ for helium atom. "
   ]
  },
  {
   "cell_type": "markdown",
   "metadata": {},
   "source": [
    "Using first-order perturbation theory, the energy is approximated using the exact wavefunctions of $H^{(0)}$ to calculate the average value of the perturbation.  Thus, the first order energy is \n",
    "<br><br>\n",
    "<center>$E=E^{(0)}+\\int \\psi^{(0)}H^{(1)}\\psi^{(0)} d\\tau \\qquad$ (7)"
   ]
  },
  {
   "cell_type": "markdown",
   "metadata": {},
   "source": [
    "#### 15) If average value of the perturbation for a two-electron atom in atomic units is $\\frac{5Z}{8}$ , determine the energy of He according to first order perturbation theory.  "
   ]
  },
  {
   "cell_type": "markdown",
   "metadata": {},
   "source": [
    "#### 16) Which is a better theory to use to approximate the energy of helium - variational theory or perturbation theory? (Recall Fundamental.12)"
   ]
  },
  {
   "cell_type": "markdown",
   "metadata": {},
   "source": [
    "### <font color=green>VIII. Advanced Correlated Methods</font>"
   ]
  },
  {
   "cell_type": "markdown",
   "metadata": {},
   "source": [
    "Two fundamentally different approaches can be used to account for correlation effects: Moller Plesset perturbation theory or Coupled Cluster theory. It can be shown that in the limit of a complete basis set, the energy resulting from the exact many-electron Schrodinger equation is equivalent to the energy resulting from a linear combination of the ground electronic state configuration and all possible excited state electronic configurations. Practically speaking, the number of excited states is typically restricted to a specific number of excitations. For Couple Cluster theory, 'ccsd' calculations account for states corresponding to single and double excitations while 'ccsd(t)' also accounts for some triple excitations. Moller Plesset perturbation theory assumes the zeroth-order Hamiltonian is the Hartree-Fock Hamiltonian. For this method the Hartree-Fock energy is the sum of the zeroth and first order corrections, thus the correlation energy is the sum of all the pertubation-energy corrections from the second order 'mp2' and higher, e.g., 'mp4'.  "
   ]
  },
  {
   "cell_type": "markdown",
   "metadata": {},
   "source": [
    "#### 17) Use the code below to determine the percent of correlation energy  recovered  for Boron using Moller Plesset perturbation theory and Coupled Cluster theory. "
   ]
  },
  {
   "cell_type": "code",
   "execution_count": null,
   "metadata": {},
   "outputs": [],
   "source": [
    "basis_set = 'cc-pVTZ' # Edit for different Basis Set\n",
    "\n",
    "# Edit below charge & multiplicity \n",
    "B = psi4.geometry(\"\"\"\n",
    "0 2              \n",
    "B\n",
    "\"\"\")\n",
    "\n",
    "\n",
    "# Note: for 'mp4' add option 'qc_module': 'detci' \n",
    "psi4.set_options({'reference': 'rohf', 'basis': basis_set})\n",
    "\n",
    "e = psi4.energy('ccsd')  # Edit for different types of energy\n",
    "print(\"energy =\",e)\n",
    "psi4.core.clean()"
   ]
  },
  {
   "cell_type": "markdown",
   "metadata": {},
   "source": [
    "### <font color=green>IX. Electron Affinity</font>"
   ]
  },
  {
   "cell_type": "markdown",
   "metadata": {},
   "source": [
    "The electron affinity of atom A is the energy released for the process A + e- → A- or simply the energy difference between the anion and the neutral forms of an atom.  Note: Electron affinities are reported as positive values, i.e.  <br><br>\n",
    "<center>$EA= -(E_{\\text{anion}}-E_{\\text{neutral}})\\qquad$ (8)"
   ]
  },
  {
   "cell_type": "markdown",
   "metadata": {},
   "source": [
    "#### 18) Based on what you have learned in this lab calculate the electron affinity of B justifying your choice of theory and basis set.  (You can use the code below for the anion.) Compare your results to with those publised by Schaefer and Harris, Phys Rev 167, 67 (1968)."
   ]
  },
  {
   "cell_type": "code",
   "execution_count": null,
   "metadata": {},
   "outputs": [],
   "source": []
  }
 ],
 "metadata": {
  "kernelspec": {
   "display_name": "Python 3",
   "language": "python",
   "name": "python3"
  },
  "language_info": {
   "codemirror_mode": {
    "name": "ipython",
    "version": 3
   },
   "file_extension": ".py",
   "mimetype": "text/x-python",
   "name": "python",
   "nbconvert_exporter": "python",
   "pygments_lexer": "ipython3",
   "version": "3.6.10"
  }
 },
 "nbformat": 4,
 "nbformat_minor": 2
}
